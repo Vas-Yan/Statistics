{
 "cells": [
  {
   "cell_type": "markdown",
   "id": "48972c05-4810-4be4-9a6d-03074496bb95",
   "metadata": {},
   "source": [
    "# Домашнее задание Семинара 3"
   ]
  },
  {
   "cell_type": "code",
   "execution_count": 4,
   "id": "881b7678-4596-48fc-939f-7a08807743d1",
   "metadata": {},
   "outputs": [],
   "source": [
    "import numpy as np\n",
    "from math import factorial"
   ]
  },
  {
   "cell_type": "markdown",
   "id": "b3567345-24e0-4ac2-a4d8-6ffc01b550e1",
   "metadata": {},
   "source": [
    "## Задание 1\n",
    "Даны значения зарплат из выборки выпускников: 100, 80, 75, 77, 89, 33, 45, 25, 65, 17, 30, 24, 57, 55, 70, 75, 65, 84, 90, 150. Посчитать (желательно без использования статистических методов наподобие std, var, mean) среднее арифметическое, среднее квадратичное отклонение, смещенную и несмещенную оценки дисперсий для данной выборки."
   ]
  },
  {
   "cell_type": "code",
   "execution_count": 5,
   "id": "85fc198e-c389-40a2-94e6-05385f4bee82",
   "metadata": {},
   "outputs": [],
   "source": [
    "lst = [100, 80, 75, 77, 89, 33, 45, 25, 65, 17, 30, 24, 57, 55, 70, 75, 65, 84, 90, 150]"
   ]
  },
  {
   "cell_type": "code",
   "execution_count": 6,
   "id": "cd0e0215-1b8d-4d7f-8f94-995d4ae5b462",
   "metadata": {},
   "outputs": [],
   "source": [
    "def average (lst):\n",
    "    return sum(lst)/len(lst)"
   ]
  },
  {
   "cell_type": "code",
   "execution_count": 7,
   "id": "a00f8bf9-7858-4601-8f7f-be6c665574e3",
   "metadata": {},
   "outputs": [
    {
     "data": {
      "text/plain": [
       "65.3"
      ]
     },
     "execution_count": 7,
     "metadata": {},
     "output_type": "execute_result"
    }
   ],
   "source": [
    "average(lst) # среднее арифметическое"
   ]
  },
  {
   "cell_type": "code",
   "execution_count": 8,
   "id": "c7950896-b23f-4c4a-bb16-ae9ec06091b3",
   "metadata": {},
   "outputs": [
    {
     "data": {
      "text/plain": [
       "30.823854398825596"
      ]
     },
     "execution_count": 8,
     "metadata": {},
     "output_type": "execute_result"
    }
   ],
   "source": [
    "np.std(lst) # смещенная дисперсия"
   ]
  },
  {
   "cell_type": "code",
   "execution_count": 9,
   "id": "3e78575c-bb17-4001-b2c5-a6c2766840d0",
   "metadata": {},
   "outputs": [
    {
     "data": {
      "text/plain": [
       "31.624607341019814"
      ]
     },
     "execution_count": 9,
     "metadata": {},
     "output_type": "execute_result"
    }
   ],
   "source": [
    "np.std(lst,ddof=1) # несмещенная дисперсия"
   ]
  },
  {
   "cell_type": "code",
   "execution_count": 10,
   "id": "d14d4336-5564-4e8a-b277-fd052118b93b",
   "metadata": {},
   "outputs": [
    {
     "data": {
      "text/plain": [
       "950.11"
      ]
     },
     "execution_count": 10,
     "metadata": {},
     "output_type": "execute_result"
    }
   ],
   "source": [
    "np.var(lst) # среднее квадратичное отклонение"
   ]
  },
  {
   "cell_type": "markdown",
   "id": "150afd22-d75d-4cb8-b186-3e41fc9088a4",
   "metadata": {},
   "source": [
    "## Задание 2\n",
    "В первом ящике находится 8 мячей, из которых 5 - белые. Во втором ящике - 12 мячей, из которых 5 белых. Из первого ящика вытаскивают случайным образом два мяча, из второго - 4. Какова вероятность того, что 3 мяча белые?"
   ]
  },
  {
   "cell_type": "code",
   "execution_count": 11,
   "id": "6354e2bf-fb38-4984-978c-e358b9eaa236",
   "metadata": {},
   "outputs": [],
   "source": [
    "def combination (n,k):\n",
    "    return np.math.factorial(n)/(np.math.factorial(k)*np.math.factorial(n-k))"
   ]
  },
  {
   "cell_type": "markdown",
   "id": "52f36839-f06a-4639-922e-91ed5ef954ad",
   "metadata": {},
   "source": [
    "#### 1й случай: из 1го ящика: 0 белых и 2 черных, из 2го ящика: 3 белых и 1 черный"
   ]
  },
  {
   "cell_type": "code",
   "execution_count": 12,
   "id": "5a570736-f652-4cee-89e0-b47683e1a7fa",
   "metadata": {},
   "outputs": [],
   "source": [
    "p1 = ((combination(5,0)*combination(3,2))/combination(8,2))*((combination(5,3)*combination(7,1))/combination(12,4))"
   ]
  },
  {
   "cell_type": "code",
   "execution_count": 13,
   "id": "757a811d-b27a-4234-990a-947f67accb91",
   "metadata": {},
   "outputs": [
    {
     "data": {
      "text/plain": [
       "0.01515151515151515"
      ]
     },
     "execution_count": 13,
     "metadata": {},
     "output_type": "execute_result"
    }
   ],
   "source": [
    "p1"
   ]
  },
  {
   "cell_type": "markdown",
   "id": "98ccfc43-4afe-4baa-942e-13c42d216848",
   "metadata": {},
   "source": [
    "#### 2й случай: из 1го ящика: 1 белый и 1 черный, из 2го ящика: 2 белых и 2 черных"
   ]
  },
  {
   "cell_type": "code",
   "execution_count": 14,
   "id": "2b050698-ccb1-40c0-aad9-650a6f3b7aa6",
   "metadata": {},
   "outputs": [],
   "source": [
    "p2 = ((combination(5,1)*combination(3,1))/combination(8,2))*((combination(5,2)*combination(7,2))/combination(12,4))"
   ]
  },
  {
   "cell_type": "code",
   "execution_count": 15,
   "id": "93410240-bb80-4379-bc28-001c76581520",
   "metadata": {},
   "outputs": [
    {
     "data": {
      "text/plain": [
       "0.22727272727272727"
      ]
     },
     "execution_count": 15,
     "metadata": {},
     "output_type": "execute_result"
    }
   ],
   "source": [
    "p2"
   ]
  },
  {
   "cell_type": "markdown",
   "id": "c169fb6f-9a9b-4b3b-8107-5169f2a488c5",
   "metadata": {},
   "source": [
    "#### 3й случай: из 1го ящика: 2 белых и 0 черных, из 2го ящика: 1 белый и 3 черных"
   ]
  },
  {
   "cell_type": "code",
   "execution_count": 16,
   "id": "9a723b82-55dc-49b5-b0be-a704d4b1e936",
   "metadata": {},
   "outputs": [],
   "source": [
    "p3 = ((combination(5,2)*combination(3,0))/combination(8,2))*((combination(5,1)*combination(7,3))/combination(12,4))"
   ]
  },
  {
   "cell_type": "code",
   "execution_count": 17,
   "id": "865e967f-b592-457a-a2e5-299fc7a56c16",
   "metadata": {},
   "outputs": [
    {
     "data": {
      "text/plain": [
       "0.12626262626262627"
      ]
     },
     "execution_count": 17,
     "metadata": {},
     "output_type": "execute_result"
    }
   ],
   "source": [
    "p3"
   ]
  },
  {
   "cell_type": "code",
   "execution_count": 18,
   "id": "d5267f9c-173e-438c-85b4-9aa6af053e73",
   "metadata": {},
   "outputs": [],
   "source": [
    "p = p1+p2+p3"
   ]
  },
  {
   "cell_type": "code",
   "execution_count": 19,
   "id": "c3bef902-91b5-4477-8942-efb9c3efb622",
   "metadata": {},
   "outputs": [
    {
     "data": {
      "text/plain": [
       "0.37"
      ]
     },
     "execution_count": 19,
     "metadata": {},
     "output_type": "execute_result"
    }
   ],
   "source": [
    "round(p,2) # вероятность вытащить 3 белых шара"
   ]
  },
  {
   "cell_type": "markdown",
   "id": "3188919e-0075-41b4-9af8-de4a3c504812",
   "metadata": {},
   "source": [
    "## Задание 3.\n",
    "На соревновании по биатлону один из трех спортсменов стреляет и попадает в мишень. Вероятность попадания для первого спортсмена равна 0.9, для второго — 0.8, для третьего — 0.6. Найти вероятность того, что выстрел произведен: a). первым спортсменом б). вторым спортсменом в). третьим спортсменом."
   ]
  },
  {
   "cell_type": "markdown",
   "id": "956b95c2-d768-4da5-91c8-6839cc97d000",
   "metadata": {},
   "source": [
    "#### A - событие попадания 1го\n",
    "#### В - событие попадания 2го\n",
    "#### С - событие попадания 3го\n",
    "#### D - событие совершения 3х выстрелов"
   ]
  },
  {
   "cell_type": "markdown",
   "id": "0a35bed5-4e2a-436e-96b3-6c57090095cc",
   "metadata": {},
   "source": [
    "<img scr='https://miro.medium.com/max/1400/1*LB-G6WBuswEfpg20FMighA.png (2)' >"
   ]
  },
  {
   "cell_type": "markdown",
   "id": "92220f13-9ff6-49bd-b37d-3d41bdde818e",
   "metadata": {},
   "source": [
    "### P(A|D)=(P(D|A)*P(A))/P(D)"
   ]
  },
  {
   "cell_type": "code",
   "execution_count": 20,
   "id": "32f39649-89f7-4c44-8bb6-a62578975ef2",
   "metadata": {},
   "outputs": [],
   "source": [
    "d = 0.9*1/3+0.8*1/3+0.6*1/3 # вероятность события D"
   ]
  },
  {
   "cell_type": "code",
   "execution_count": 21,
   "id": "ffbc041f-23da-4d6e-bac6-74700f58daf8",
   "metadata": {},
   "outputs": [],
   "source": [
    "p1=1/3*0.9/d # вероятность, что выстрел произведен первым спортсменом"
   ]
  },
  {
   "cell_type": "code",
   "execution_count": 23,
   "id": "fafadcd8-f083-44d5-b386-b6b21edcd3e8",
   "metadata": {},
   "outputs": [
    {
     "data": {
      "text/plain": [
       "0.39"
      ]
     },
     "execution_count": 23,
     "metadata": {},
     "output_type": "execute_result"
    }
   ],
   "source": [
    "round(p1,2)"
   ]
  },
  {
   "cell_type": "code",
   "execution_count": null,
   "id": "c81b3b0f-55c5-4db8-96cc-ceaca86a9ce2",
   "metadata": {},
   "outputs": [],
   "source": [
    "p2=1/3*0.9/d # вероятность, что выстрел произведен вторым спортсменом"
   ]
  },
  {
   "cell_type": "code",
   "execution_count": 24,
   "id": "470f3d65-35a1-4bab-8d6a-4c81e8515634",
   "metadata": {},
   "outputs": [
    {
     "data": {
      "text/plain": [
       "0.23"
      ]
     },
     "execution_count": 24,
     "metadata": {},
     "output_type": "execute_result"
    }
   ],
   "source": [
    "round(p2,2)"
   ]
  },
  {
   "cell_type": "code",
   "execution_count": 25,
   "id": "01555eee-4214-4474-9887-e72a91dcdf17",
   "metadata": {},
   "outputs": [],
   "source": [
    "p3=1/3*0.3/d # вероятность, что выстрел произведен третьим спортсменом"
   ]
  },
  {
   "cell_type": "code",
   "execution_count": 26,
   "id": "b7354b0a-813e-4932-b9b9-14fe62ef74a6",
   "metadata": {},
   "outputs": [
    {
     "data": {
      "text/plain": [
       "0.13"
      ]
     },
     "execution_count": 26,
     "metadata": {},
     "output_type": "execute_result"
    }
   ],
   "source": [
    "round(p3,2)"
   ]
  },
  {
   "cell_type": "markdown",
   "id": "5a5df646-21c1-4da2-9e61-83e726ffc335",
   "metadata": {},
   "source": [
    "## Задание 4.\n",
    "В университет на факультеты A и B поступило равное количество студентов, а на факультет C студентов поступило столько же, сколько на A и B вместе. Вероятность того, что студент факультета A сдаст первую сессию, равна 0.8. Для студента факультета B эта вероятность равна 0.7, а для студента факультета C - 0.9. Студент сдал первую сессию. Какова вероятность, что он учится: a). на факультете A б). на факультете B в). на факультете C?"
   ]
  },
  {
   "cell_type": "markdown",
   "id": "fa958b6d-154e-45c3-98c8-f1a08884c656",
   "metadata": {},
   "source": [
    "#### Пусть на факультет А поступило n студентов, тогда на факултет В также поступило n студентов, а на факультет С - 2n. Тогда:"
   ]
  },
  {
   "cell_type": "code",
   "execution_count": 32,
   "id": "470e3dc8-6237-4731-9510-14ad4e5d7250",
   "metadata": {},
   "outputs": [],
   "source": [
    "p_A = 1/4 # вероятность, что студент с факультета А"
   ]
  },
  {
   "cell_type": "code",
   "execution_count": 33,
   "id": "d133bcff-03f9-4666-af78-554701e256b6",
   "metadata": {},
   "outputs": [],
   "source": [
    "p_В = 1/4 # вероятность, что студент с факультета В"
   ]
  },
  {
   "cell_type": "code",
   "execution_count": 34,
   "id": "466e63c4-7e3b-48d4-88f0-ba28f9766c06",
   "metadata": {},
   "outputs": [],
   "source": [
    "p_С = 2/4 # вероятность, что студент с факультета С"
   ]
  },
  {
   "cell_type": "markdown",
   "id": "56e9ea05-f7e3-4b84-b2dc-f450bff886c8",
   "metadata": {},
   "source": [
    "#### P(A|D)=(P(B|A)*P(A))/P(D)"
   ]
  },
  {
   "cell_type": "code",
   "execution_count": 37,
   "id": "511986d3-6695-4c6d-a3eb-8f0880d8c2a6",
   "metadata": {},
   "outputs": [],
   "source": [
    "p_D = p_A*0.8+p_В*0.7+p_С*0.8"
   ]
  },
  {
   "cell_type": "code",
   "execution_count": 38,
   "id": "2f78a402-a084-4bd7-8072-39ab46bbdf5c",
   "metadata": {},
   "outputs": [],
   "source": [
    "result_a = p_A*0.8/p_D"
   ]
  },
  {
   "cell_type": "code",
   "execution_count": 39,
   "id": "1ef23ecf-9e93-4e4f-a00c-207986ba8b13",
   "metadata": {},
   "outputs": [
    {
     "data": {
      "text/plain": [
       "0.26"
      ]
     },
     "execution_count": 39,
     "metadata": {},
     "output_type": "execute_result"
    }
   ],
   "source": [
    "round(result_a,2) # вероятность, что студент учится на факультете А"
   ]
  },
  {
   "cell_type": "code",
   "execution_count": 41,
   "id": "4d2970b7-d07b-411b-8193-1bf64d073b7e",
   "metadata": {},
   "outputs": [],
   "source": [
    "result_b = p_В*0.7/p_D  # вероятность, что студент учится на факультете В"
   ]
  },
  {
   "cell_type": "code",
   "execution_count": 42,
   "id": "57be5f2f-f611-42a3-b5ad-9244964be6e8",
   "metadata": {},
   "outputs": [
    {
     "data": {
      "text/plain": [
       "0.23"
      ]
     },
     "execution_count": 42,
     "metadata": {},
     "output_type": "execute_result"
    }
   ],
   "source": [
    "round(result_b,2)"
   ]
  },
  {
   "cell_type": "code",
   "execution_count": 43,
   "id": "cd3821fd-b295-4ace-aaae-90d0e3bb3c45",
   "metadata": {},
   "outputs": [],
   "source": [
    "result_с = p_С*0.9/p_D  # вероятность, что студент учится на факультете В"
   ]
  },
  {
   "cell_type": "code",
   "execution_count": 45,
   "id": "351299d2-c9a2-4cbb-a48c-265de5dfb667",
   "metadata": {},
   "outputs": [
    {
     "data": {
      "text/plain": [
       "0.58"
      ]
     },
     "execution_count": 45,
     "metadata": {},
     "output_type": "execute_result"
    }
   ],
   "source": [
    "round(result_с,2)"
   ]
  },
  {
   "cell_type": "markdown",
   "id": "ff416731-560d-4fb5-8f62-37abe07185ee",
   "metadata": {},
   "source": [
    "## Задание 5.\n",
    "Устройство состоит из трех деталей. Для первой детали вероятность выйти из строя в первый месяц равна 0.1, для второй - 0.2, для третьей - 0.25. Какова вероятность того, что в первый месяц выйдут из строя: а). все детали б). только две детали в). хотя бы одна деталь г). от одной до двух деталей?"
   ]
  },
  {
   "cell_type": "code",
   "execution_count": 47,
   "id": "e42594d5-664a-4dd5-934e-2a402954639b",
   "metadata": {},
   "outputs": [],
   "source": [
    "p_1 = 0.1 # вероятность выхода из строя детали 1"
   ]
  },
  {
   "cell_type": "code",
   "execution_count": 48,
   "id": "1dc47eeb-35d2-40cb-981c-1ec31932c53a",
   "metadata": {},
   "outputs": [],
   "source": [
    "p_2 = 0.2 # вероятность выхода из строя детали 2"
   ]
  },
  {
   "cell_type": "code",
   "execution_count": 55,
   "id": "099dad92-6374-4bf0-b1e4-3e9c8eed66bf",
   "metadata": {},
   "outputs": [],
   "source": [
    "p_3 = 0.25 # вероятность выхода из строя детали 3"
   ]
  },
  {
   "cell_type": "code",
   "execution_count": 56,
   "id": "64bac5c8-a989-4c2d-b77f-9d8290360745",
   "metadata": {},
   "outputs": [],
   "source": [
    "p_all_broken = p_1*p_2*p_3 # вероятность, что все детали сломаны"
   ]
  },
  {
   "cell_type": "code",
   "execution_count": 57,
   "id": "b4643dbe-aad1-4937-a424-624b855dc601",
   "metadata": {},
   "outputs": [
    {
     "data": {
      "text/plain": [
       "0.01"
      ]
     },
     "execution_count": 57,
     "metadata": {},
     "output_type": "execute_result"
    }
   ],
   "source": [
    "round(p_all_broken,2)"
   ]
  },
  {
   "cell_type": "code",
   "execution_count": 58,
   "id": "51ed3016-516a-4b8a-8b3e-7d745cd2a15a",
   "metadata": {},
   "outputs": [],
   "source": [
    "p_two_broken = (1-p_1)*p_2*p_3+ p_1*(1-p_2)*p_3+ p_1*p_2*(1-p_3) # вероятность, что только 2 детали сломаны"
   ]
  },
  {
   "cell_type": "code",
   "execution_count": 59,
   "id": "42cd2fa4-40c0-4681-8e58-80095ad44ef6",
   "metadata": {},
   "outputs": [
    {
     "data": {
      "text/plain": [
       "0.08"
      ]
     },
     "execution_count": 59,
     "metadata": {},
     "output_type": "execute_result"
    }
   ],
   "source": [
    "round(p_two_broken,2)"
   ]
  },
  {
   "cell_type": "code",
   "execution_count": 60,
   "id": "d6fe5507-ca50-4c66-9cb3-351083ba2af2",
   "metadata": {},
   "outputs": [],
   "source": [
    "p_none_broken = (1-p_1)*(1-p_2)*(1-p_3)"
   ]
  },
  {
   "cell_type": "code",
   "execution_count": 61,
   "id": "fae9e493-077a-4956-9a0c-7dfadb8f166b",
   "metadata": {},
   "outputs": [
    {
     "data": {
      "text/plain": [
       "0.54"
      ]
     },
     "execution_count": 61,
     "metadata": {},
     "output_type": "execute_result"
    }
   ],
   "source": [
    "round(p_none_broken,2)"
   ]
  },
  {
   "cell_type": "code",
   "execution_count": 63,
   "id": "1b24be9c-1b5a-4555-b750-f1548492376c",
   "metadata": {},
   "outputs": [],
   "source": [
    "p_at_least_one_broken = 1 - p_none_broken # вероятность, что хотя бы 1 деталь сломана"
   ]
  },
  {
   "cell_type": "code",
   "execution_count": 64,
   "id": "519bdacb-109f-4f1d-b05e-630e7b036923",
   "metadata": {},
   "outputs": [
    {
     "data": {
      "text/plain": [
       "0.46"
      ]
     },
     "execution_count": 64,
     "metadata": {},
     "output_type": "execute_result"
    }
   ],
   "source": [
    "round(p_at_least_one_broken,2)"
   ]
  },
  {
   "cell_type": "code",
   "execution_count": 65,
   "id": "556314b6-b232-451b-95e4-8c441aa64557",
   "metadata": {},
   "outputs": [],
   "source": [
    "p_one_or_two_broken = 1-p_all_broken-p_none_broken # вероятность, что от 1й до 2х деталей сломано"
   ]
  },
  {
   "cell_type": "code",
   "execution_count": 66,
   "id": "6c6ca414-9db5-4371-b180-86f4d51aa238",
   "metadata": {},
   "outputs": [
    {
     "data": {
      "text/plain": [
       "0.45"
      ]
     },
     "execution_count": 66,
     "metadata": {},
     "output_type": "execute_result"
    }
   ],
   "source": [
    "round(p_one_or_two_broken,2)"
   ]
  },
  {
   "cell_type": "code",
   "execution_count": null,
   "id": "4762799b-793b-411e-ac87-f384d1c9e718",
   "metadata": {},
   "outputs": [],
   "source": []
  }
 ],
 "metadata": {
  "kernelspec": {
   "display_name": "Python 3 (ipykernel)",
   "language": "python",
   "name": "python3"
  },
  "language_info": {
   "codemirror_mode": {
    "name": "ipython",
    "version": 3
   },
   "file_extension": ".py",
   "mimetype": "text/x-python",
   "name": "python",
   "nbconvert_exporter": "python",
   "pygments_lexer": "ipython3",
   "version": "3.9.7"
  }
 },
 "nbformat": 4,
 "nbformat_minor": 5
}
