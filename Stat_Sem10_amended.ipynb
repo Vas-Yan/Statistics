{
 "cells": [
  {
   "cell_type": "code",
   "execution_count": 3,
   "id": "cc4c42db-a4dc-47d3-a30c-5727cca0df91",
   "metadata": {},
   "outputs": [],
   "source": [
    "import numpy as np\n",
    "import scipy.stats as stats\n",
    "import pandas as pd"
   ]
  },
  {
   "cell_type": "code",
   "execution_count": 62,
   "id": "0f5e10f2-7e9c-46e7-bcb7-2af5eee13975",
   "metadata": {},
   "outputs": [],
   "source": [
    "import statsmodels.api as sm\n",
    "from statsmodels.formula.api import ols\n",
    "from statsmodels.stats.multicomp import pairwise_tukeyhsd\n",
    "from scipy.stats import f_oneway"
   ]
  },
  {
   "cell_type": "code",
   "execution_count": 5,
   "id": "bd921edd-5837-418f-b481-f6342b882497",
   "metadata": {},
   "outputs": [
    {
     "data": {
      "text/plain": [
       "array(['low', 'low', 'low', 'low', 'high', 'high', 'high', 'high'],\n",
       "      dtype='<U4')"
      ]
     },
     "execution_count": 5,
     "metadata": {},
     "output_type": "execute_result"
    }
   ],
   "source": [
    "fA = np.array([\"low\",\"low\",\"low\",\"low\",\"high\",\"high\",\"high\",\"high\"])\n",
    "fA"
   ]
  },
  {
   "cell_type": "code",
   "execution_count": 6,
   "id": "1fe448aa-01c7-4b25-8b2f-8db2e7749d27",
   "metadata": {},
   "outputs": [
    {
     "data": {
      "text/plain": [
       "array(['low', 'low', 'high', 'high', 'low', 'low', 'high', 'high'],\n",
       "      dtype='<U4')"
      ]
     },
     "execution_count": 6,
     "metadata": {},
     "output_type": "execute_result"
    }
   ],
   "source": [
    "fB = np.array([\"low\",\"low\",\"high\",\"high\",\"low\",\"low\",\"high\",\"high\"])\n",
    "fB"
   ]
  },
  {
   "cell_type": "code",
   "execution_count": 7,
   "id": "2858f670-285f-45a7-91d0-87bbd025fc62",
   "metadata": {},
   "outputs": [
    {
     "data": {
      "text/plain": [
       "array([57, 59, 56, 58, 32, 34, 71, 71])"
      ]
     },
     "execution_count": 7,
     "metadata": {},
     "output_type": "execute_result"
    }
   ],
   "source": [
    "values = np.array([57,59,56,58,32,34,71,71])\n",
    "values"
   ]
  },
  {
   "cell_type": "code",
   "execution_count": 8,
   "id": "db878f94-e830-4aa6-a1e9-44c286fc7ff6",
   "metadata": {},
   "outputs": [
    {
     "data": {
      "text/html": [
       "<div>\n",
       "<style scoped>\n",
       "    .dataframe tbody tr th:only-of-type {\n",
       "        vertical-align: middle;\n",
       "    }\n",
       "\n",
       "    .dataframe tbody tr th {\n",
       "        vertical-align: top;\n",
       "    }\n",
       "\n",
       "    .dataframe thead th {\n",
       "        text-align: right;\n",
       "    }\n",
       "</style>\n",
       "<table border=\"1\" class=\"dataframe\">\n",
       "  <thead>\n",
       "    <tr style=\"text-align: right;\">\n",
       "      <th></th>\n",
       "      <th>fA</th>\n",
       "      <th>fB</th>\n",
       "      <th>values</th>\n",
       "    </tr>\n",
       "  </thead>\n",
       "  <tbody>\n",
       "    <tr>\n",
       "      <th>0</th>\n",
       "      <td>low</td>\n",
       "      <td>low</td>\n",
       "      <td>57</td>\n",
       "    </tr>\n",
       "    <tr>\n",
       "      <th>1</th>\n",
       "      <td>low</td>\n",
       "      <td>low</td>\n",
       "      <td>59</td>\n",
       "    </tr>\n",
       "    <tr>\n",
       "      <th>2</th>\n",
       "      <td>low</td>\n",
       "      <td>high</td>\n",
       "      <td>56</td>\n",
       "    </tr>\n",
       "    <tr>\n",
       "      <th>3</th>\n",
       "      <td>low</td>\n",
       "      <td>high</td>\n",
       "      <td>58</td>\n",
       "    </tr>\n",
       "    <tr>\n",
       "      <th>4</th>\n",
       "      <td>high</td>\n",
       "      <td>low</td>\n",
       "      <td>32</td>\n",
       "    </tr>\n",
       "    <tr>\n",
       "      <th>5</th>\n",
       "      <td>high</td>\n",
       "      <td>low</td>\n",
       "      <td>34</td>\n",
       "    </tr>\n",
       "    <tr>\n",
       "      <th>6</th>\n",
       "      <td>high</td>\n",
       "      <td>high</td>\n",
       "      <td>71</td>\n",
       "    </tr>\n",
       "    <tr>\n",
       "      <th>7</th>\n",
       "      <td>high</td>\n",
       "      <td>high</td>\n",
       "      <td>71</td>\n",
       "    </tr>\n",
       "  </tbody>\n",
       "</table>\n",
       "</div>"
      ],
      "text/plain": [
       "     fA    fB  values\n",
       "0   low   low      57\n",
       "1   low   low      59\n",
       "2   low  high      56\n",
       "3   low  high      58\n",
       "4  high   low      32\n",
       "5  high   low      34\n",
       "6  high  high      71\n",
       "7  high  high      71"
      ]
     },
     "execution_count": 8,
     "metadata": {},
     "output_type": "execute_result"
    }
   ],
   "source": [
    "df = pd.DataFrame({'fA': fA, 'fB': fB, 'values': values })\n",
    "df"
   ]
  },
  {
   "cell_type": "code",
   "execution_count": 9,
   "id": "2e63d4fa-64f8-40fc-94bd-0d2c54eb894a",
   "metadata": {},
   "outputs": [],
   "source": [
    "lm_model = ols ('values ~ C(fA)*C(fB)', data = df).fit()"
   ]
  },
  {
   "cell_type": "code",
   "execution_count": 10,
   "id": "e4769492-1444-4367-a78f-623deb303285",
   "metadata": {},
   "outputs": [
    {
     "data": {
      "text/html": [
       "<div>\n",
       "<style scoped>\n",
       "    .dataframe tbody tr th:only-of-type {\n",
       "        vertical-align: middle;\n",
       "    }\n",
       "\n",
       "    .dataframe tbody tr th {\n",
       "        vertical-align: top;\n",
       "    }\n",
       "\n",
       "    .dataframe thead th {\n",
       "        text-align: right;\n",
       "    }\n",
       "</style>\n",
       "<table border=\"1\" class=\"dataframe\">\n",
       "  <thead>\n",
       "    <tr style=\"text-align: right;\">\n",
       "      <th></th>\n",
       "      <th>df</th>\n",
       "      <th>sum_sq</th>\n",
       "      <th>mean_sq</th>\n",
       "      <th>F</th>\n",
       "      <th>PR(&gt;F)</th>\n",
       "    </tr>\n",
       "  </thead>\n",
       "  <tbody>\n",
       "    <tr>\n",
       "      <th>C(fA)</th>\n",
       "      <td>1.0</td>\n",
       "      <td>60.5</td>\n",
       "      <td>60.5</td>\n",
       "      <td>40.333333</td>\n",
       "      <td>0.003150</td>\n",
       "    </tr>\n",
       "    <tr>\n",
       "      <th>C(fB)</th>\n",
       "      <td>1.0</td>\n",
       "      <td>684.5</td>\n",
       "      <td>684.5</td>\n",
       "      <td>456.333333</td>\n",
       "      <td>0.000028</td>\n",
       "    </tr>\n",
       "    <tr>\n",
       "      <th>C(fA):C(fB)</th>\n",
       "      <td>1.0</td>\n",
       "      <td>760.5</td>\n",
       "      <td>760.5</td>\n",
       "      <td>507.000000</td>\n",
       "      <td>0.000023</td>\n",
       "    </tr>\n",
       "    <tr>\n",
       "      <th>Residual</th>\n",
       "      <td>4.0</td>\n",
       "      <td>6.0</td>\n",
       "      <td>1.5</td>\n",
       "      <td>NaN</td>\n",
       "      <td>NaN</td>\n",
       "    </tr>\n",
       "  </tbody>\n",
       "</table>\n",
       "</div>"
      ],
      "text/plain": [
       "              df  sum_sq  mean_sq           F    PR(>F)\n",
       "C(fA)        1.0    60.5     60.5   40.333333  0.003150\n",
       "C(fB)        1.0   684.5    684.5  456.333333  0.000028\n",
       "C(fA):C(fB)  1.0   760.5    760.5  507.000000  0.000023\n",
       "Residual     4.0     6.0      1.5         NaN       NaN"
      ]
     },
     "execution_count": 10,
     "metadata": {},
     "output_type": "execute_result"
    }
   ],
   "source": [
    "table = sm.stats.anova_lm(lm_model, type = 2)\n",
    "table"
   ]
  },
  {
   "cell_type": "markdown",
   "id": "ed73bb96-0f79-47c9-b967-58fb83ffd930",
   "metadata": {},
   "source": [
    "## Задание 1.\n",
    "Есть ли различие между процентным содержанием изотопов плутония? Используйте функции в Python\n",
    "Провести предварительный разведочный анализ (проверку на нормальность и равенство дисперсий*)"
   ]
  },
  {
   "cell_type": "code",
   "execution_count": 11,
   "id": "458fc5b1-c82a-45e5-8f70-4332ef9cc881",
   "metadata": {},
   "outputs": [],
   "source": [
    "pu_238 = np.array([0.126, 0.133, 0.127, 0.156, 0.503, 0.113, 0.129, 0.124, 1.022, 1.412, 1.533, 1.534, 1.437, 1.439, 1.375, 1.153, 0.201, 0.176, 0.239, 0.102, 1.070, 0.851, 0.125, 0.142, 0.352, 0.351, 0.346, 0.217, 1.068, 1.171, 1.213, 1.226, 1.111, 0.183, 0.162, 0.113, 1.309, 1.638, 1.589, 1.411, 1.457, 0.397, 0.328, 0.242, 1.367])"
   ]
  },
  {
   "cell_type": "code",
   "execution_count": 12,
   "id": "2a2ee18f-0c01-4544-bc5d-b71b37c0f719",
   "metadata": {},
   "outputs": [],
   "source": [
    "pu_239 = np.array([75.804, 75.515, 75.175, 78.872, 73.317, 79.116, 75.751, 75.326, 63.287, 59.553, 58.688, 58.758, 59.728, 59.544, 59.877, 61.182, 78.244, 78.166, 74.254, 79.840, 62.455, 73.189, 75.968, 75.957, 72.885,72.907, 72.919, 76.089, 70.129, 69.273, 69.147, 68.294, 71.076, 75.714, 76.150, 77.845, 62.382, 60.112, 60.519, 61.585, 61.332, 72.291, 73.451, 74.888, 60.507])"
   ]
  },
  {
   "cell_type": "code",
   "execution_count": 13,
   "id": "79e64ffe-b897-4116-b97c-4c8d827443cc",
   "metadata": {},
   "outputs": [],
   "source": [
    "pu_240 = np.array([21.204, 21.408, 21.668, 18.428, 20.223, 18.548, 21.162, 21.557, 24.493, 25.576, 25.719, 25.692, 25.146, 25.126, 25.128, 25.100, 18.488, 18.629, 21.515, 17.872, 24.656, 18.285, 20.794, 20.867, 21.718, 21.721, 21.713, 20.225, 18.573, 18.633, 18.640, 18.869, 18.122, 20.750, 20.345, 19.108, 22.754, 23.320, 23.128, 23.133, 23.239, 21.761, 21.429, 20.939, 23.603])"
   ]
  },
  {
   "cell_type": "code",
   "execution_count": 14,
   "id": "ef9697ec-b89b-4b31-a077-34b9f8f453f3",
   "metadata": {},
   "outputs": [],
   "source": [
    "pu_241=np.array([ 2.180, 2.240, 2.305, 1.906, 4.128, 1.690, 2.260, 2.282, 6.990, 8.027, 8.279, 8.261, 8.377, 8.569, 8.428, 7.802, 2.351, 2.365, 2.901, 1.674, 7.512, 5.597, 2.407, 2.341, 3.618, 3.601, 3.600, 2.556, 7.689, 8.300, 8.363, 8.826, 7.248, 2.488, 2.524, 2.275, 9.311, 9.972, 9.970, 9.339, 9.321, 3.836, 3.419, 2.875, 9.839])"
   ]
  },
  {
   "cell_type": "code",
   "execution_count": 15,
   "id": "8e1061d5-cf13-4a25-9a25-91dd2fd2dbfe",
   "metadata": {},
   "outputs": [
    {
     "data": {
      "text/plain": [
       "ShapiroResult(statistic=0.8199635744094849, pvalue=6.733238933520624e-06)"
      ]
     },
     "execution_count": 15,
     "metadata": {},
     "output_type": "execute_result"
    }
   ],
   "source": [
    "stats.shapiro(pu_238) # ненормальное распределение"
   ]
  },
  {
   "cell_type": "code",
   "execution_count": 16,
   "id": "bb7eb58e-9432-4888-a5fc-8ff3bb37004b",
   "metadata": {},
   "outputs": [
    {
     "data": {
      "text/plain": [
       "ShapiroResult(statistic=0.8647032976150513, pvalue=8.951327617978677e-05)"
      ]
     },
     "execution_count": 16,
     "metadata": {},
     "output_type": "execute_result"
    }
   ],
   "source": [
    "stats.shapiro(pu_239) # ненормальное распределение"
   ]
  },
  {
   "cell_type": "code",
   "execution_count": 17,
   "id": "18db0424-aa5a-41a5-af73-e923d5822609",
   "metadata": {},
   "outputs": [
    {
     "data": {
      "text/plain": [
       "ShapiroResult(statistic=0.9316778182983398, pvalue=0.010755515657365322)"
      ]
     },
     "execution_count": 17,
     "metadata": {},
     "output_type": "execute_result"
    }
   ],
   "source": [
    "stats.shapiro(pu_240) # ненормальное распределение"
   ]
  },
  {
   "cell_type": "code",
   "execution_count": 18,
   "id": "1ddba5db-1e28-4dc7-83d3-af11dba6e4ee",
   "metadata": {},
   "outputs": [
    {
     "data": {
      "text/plain": [
       "ShapiroResult(statistic=0.8336212635040283, pvalue=1.4246789760363754e-05)"
      ]
     },
     "execution_count": 18,
     "metadata": {},
     "output_type": "execute_result"
    }
   ],
   "source": [
    "stats.shapiro(pu_241) # ненормальное распределение"
   ]
  },
  {
   "cell_type": "code",
   "execution_count": 19,
   "id": "2b14cbb8-eff5-4342-907d-6cfb512925af",
   "metadata": {},
   "outputs": [
    {
     "data": {
      "text/plain": [
       "BartlettResult(statistic=193.1803716617602, pvalue=1.2547805439253745e-41)"
      ]
     },
     "execution_count": 19,
     "metadata": {},
     "output_type": "execute_result"
    }
   ],
   "source": [
    "from scipy.stats import bartlett \n",
    "stats.bartlett(pu_238, pu_239, pu_240, pu_241) # тест на равенство дисперсий (проверяем, если есть нормальность, если ненормально, то тест Кохрана или тест Левене; p value низкий, поэтому не можем использовать критерий Фишера для дисперсионного анализа\n"
   ]
  },
  {
   "cell_type": "code",
   "execution_count": 20,
   "id": "62f081e3-497f-47c2-b470-123a7dbf55a0",
   "metadata": {},
   "outputs": [
    {
     "data": {
      "text/plain": [
       "KruskalResult(statistic=167.8178522154513, pvalue=3.76478949748032e-36)"
      ]
     },
     "execution_count": 20,
     "metadata": {},
     "output_type": "execute_result"
    }
   ],
   "source": [
    "stats.kruskal(pu_238, pu_239, pu_240, pu_241)"
   ]
  },
  {
   "cell_type": "markdown",
   "id": "b85e71c3-a2fd-44ef-85c1-dd2e07fa011f",
   "metadata": {},
   "source": [
    "## Задание 2.\n",
    "Даны квартальные прибыли акции Johnson&Johnson с 1960-1980 гг\n",
    "Есть ли различия прибыли между 4-мя кварталами?\n",
    "Провести EDA (проверка на нормальность, проверка на однородность дисперсий с помощью Барлетт теста\n",
    "from scipy.stats import bartlett)\n",
    "Учитывайте при выборе теста тот факт, что при сбалансированных данных (выборки одинакового объема), неоднородность дисперсий слабо влияет на результат)"
   ]
  },
  {
   "cell_type": "code",
   "execution_count": 21,
   "id": "b1981672-cf50-41dc-a3fb-c65efac0ac4e",
   "metadata": {},
   "outputs": [],
   "source": [
    "JJ_1=np.array([0.71, 0.63, 0.85, 0.44, 0.61, 0.69, 0.92, 0.55, 0.72, 0.77, 0.92, 0.60, 0.83, 0.80, 1.00, 0.77, 0.92, 1.00, 1.24, 1.00, 1.16 ])\n",
    "JJ_2=np.array([1.30, 1.45, 1.25, 1.26, 1.38, 1.86, 1.56, 1.53, 1.59, 1.83, 1.86, 1.53, 2.07, 2.34, 2.25, 2.16, 2.43, 2.70, 2.25, 2.79, 3.42 ])\n",
    "JJ_3=np.array([3.69, 3.60, 3.60, 4.32, 4.32, 4.05, 4.86, 5.04, 5.04, 4.41, 5.58, 5.85, 6.57, 5.31, 6.03, 6.39, 6.93, 5.85, 6.93, 7.74,  7.83])\n",
    "JJ_4=np.array([6.12,  7.74,  8.91,  8.28, 6.84,  9.54, 10.26,  9.54, 8.73, 11.88, 12.06, 12.15, 8.91, 14.04, 12.96, 14.85, 9.99, 16.20, 14.67, 16.02, 11.61 ])"
   ]
  },
  {
   "cell_type": "code",
   "execution_count": 22,
   "id": "167ff2f7-c0ef-4a22-a25d-a19db0bd4dfb",
   "metadata": {},
   "outputs": [
    {
     "data": {
      "text/plain": [
       "21"
      ]
     },
     "execution_count": 22,
     "metadata": {},
     "output_type": "execute_result"
    }
   ],
   "source": [
    "len(JJ_1)"
   ]
  },
  {
   "cell_type": "code",
   "execution_count": 23,
   "id": "a772c714-e328-4c8b-b55f-14d58284d36b",
   "metadata": {},
   "outputs": [
    {
     "data": {
      "text/plain": [
       "ShapiroResult(statistic=0.9837696552276611, pvalue=0.9688368439674377)"
      ]
     },
     "execution_count": 23,
     "metadata": {},
     "output_type": "execute_result"
    }
   ],
   "source": [
    "stats.shapiro(JJ_1) # нормальное распределение"
   ]
  },
  {
   "cell_type": "code",
   "execution_count": 24,
   "id": "bff9a359-4607-4b7a-bdd5-447cca306931",
   "metadata": {},
   "outputs": [
    {
     "data": {
      "text/plain": [
       "ShapiroResult(statistic=0.9252572059631348, pvalue=0.11057735979557037)"
      ]
     },
     "execution_count": 24,
     "metadata": {},
     "output_type": "execute_result"
    }
   ],
   "source": [
    "stats.shapiro(JJ_2)  # нормальное распределение"
   ]
  },
  {
   "cell_type": "code",
   "execution_count": 25,
   "id": "f2ee2250-5353-4ea8-a15e-55c5008ba2d1",
   "metadata": {},
   "outputs": [
    {
     "data": {
      "text/plain": [
       "ShapiroResult(statistic=0.9523220062255859, pvalue=0.3765488862991333)"
      ]
     },
     "execution_count": 25,
     "metadata": {},
     "output_type": "execute_result"
    }
   ],
   "source": [
    "stats.shapiro(JJ_3)  # нормальное распределение"
   ]
  },
  {
   "cell_type": "code",
   "execution_count": 26,
   "id": "460fee05-473f-4ab0-b373-629c7453f31f",
   "metadata": {},
   "outputs": [
    {
     "data": {
      "text/plain": [
       "ShapiroResult(statistic=0.9590807557106018, pvalue=0.49780386686325073)"
      ]
     },
     "execution_count": 26,
     "metadata": {},
     "output_type": "execute_result"
    }
   ],
   "source": [
    "stats.shapiro(JJ_4)  # нормальное распределение"
   ]
  },
  {
   "cell_type": "code",
   "execution_count": 27,
   "id": "bd59cbd4-3d50-44e3-b1af-220c9984aa1c",
   "metadata": {},
   "outputs": [
    {
     "data": {
      "text/plain": [
       "BartlettResult(statistic=109.62893110687119, pvalue=1.3188378332498392e-23)"
      ]
     },
     "execution_count": 27,
     "metadata": {},
     "output_type": "execute_result"
    }
   ],
   "source": [
    "stats.bartlett(JJ_1, JJ_2, JJ_3, JJ_4) # неоднородные дисперсии, однако объемы выборки одинаковые, поэтому можно игнорировать неоднородность"
   ]
  },
  {
   "cell_type": "code",
   "execution_count": 28,
   "id": "9111caa2-c5dc-4b46-a6de-62f7bc2b316b",
   "metadata": {},
   "outputs": [
    {
     "data": {
      "text/plain": [
       "F_onewayResult(statistic=162.03157448390618, pvalue=6.81307443530621e-34)"
      ]
     },
     "execution_count": 28,
     "metadata": {},
     "output_type": "execute_result"
    }
   ],
   "source": [
    "stats.f_oneway(JJ_1, JJ_2, JJ_3, JJ_4) # верна альтернативная гипотеза, поэтому статистически значимая разница имеет место"
   ]
  },
  {
   "cell_type": "code",
   "execution_count": 29,
   "id": "3ce69839-3326-43bf-8820-e1bc52f62995",
   "metadata": {},
   "outputs": [
    {
     "data": {
      "text/plain": [
       "KruskalResult(statistic=77.04853477998796, pvalue=1.318184789753617e-16)"
      ]
     },
     "execution_count": 29,
     "metadata": {},
     "output_type": "execute_result"
    }
   ],
   "source": [
    "stats.kruskal(JJ_1, JJ_2, JJ_3, JJ_4) # верна альтернативная гипотеза, поэтому статистически значимая разница имеет место"
   ]
  },
  {
   "cell_type": "code",
   "execution_count": 30,
   "id": "cbd7bc51-1bd1-4279-b53a-bb4084c6267d",
   "metadata": {},
   "outputs": [],
   "source": [
    "from statsmodels.stats.multicomp import pairwise_tukeyhsd\n",
    "import pandas as pd \n",
    "\n",
    "df=pd.DataFrame({\"score\":[0.71, 0.63, 0.85, 0.44, 0.61, 0.69, 0.92, 0.55, 0.72, 0.77, 0.92, 0.60, 0.83, 0.80, 1.00, 0.77, 0.92, 1.00, 1.24, 1.00, 1.16,\n",
    "                         1.30, 1.45, 1.25, 1.26, 1.38, 1.86, 1.56, 1.53, 1.59, 1.83, 1.86, 1.53, 2.07, 2.34, 2.25, 2.16, 2.43, 2.70, 2.25, 2.79, 3.42,\n",
    "                         3.69, 3.60, 3.60, 4.32, 4.32, 4.05, 4.86, 5.04, 5.04, 4.41, 5.58, 5.85, 6.57, 5.31, 6.03, 6.39, 6.93, 5.85, 6.93, 7.74,  7.83,\n",
    "                         6.12,  7.74,  8.91,  8.28, 6.84,  9.54, 10.26,  9.54, 8.73, 11.88, 12.06, 12.15, 8.91, 14.04, 12.96, 14.85, 9.99, 16.20, 14.67, 16.02, 11.61],\n",
    "                 \"group\":np.repeat([\"JJ_1\",\"JJ_2\",\"JJ_3\",\"JJ_4\"], repeats =21)})"
   ]
  },
  {
   "cell_type": "code",
   "execution_count": 31,
   "id": "935cbee9-aef6-4e12-8736-aed676708ad8",
   "metadata": {},
   "outputs": [
    {
     "data": {
      "text/html": [
       "<div>\n",
       "<style scoped>\n",
       "    .dataframe tbody tr th:only-of-type {\n",
       "        vertical-align: middle;\n",
       "    }\n",
       "\n",
       "    .dataframe tbody tr th {\n",
       "        vertical-align: top;\n",
       "    }\n",
       "\n",
       "    .dataframe thead th {\n",
       "        text-align: right;\n",
       "    }\n",
       "</style>\n",
       "<table border=\"1\" class=\"dataframe\">\n",
       "  <thead>\n",
       "    <tr style=\"text-align: right;\">\n",
       "      <th></th>\n",
       "      <th>score</th>\n",
       "      <th>group</th>\n",
       "    </tr>\n",
       "  </thead>\n",
       "  <tbody>\n",
       "    <tr>\n",
       "      <th>0</th>\n",
       "      <td>0.71</td>\n",
       "      <td>JJ_1</td>\n",
       "    </tr>\n",
       "    <tr>\n",
       "      <th>1</th>\n",
       "      <td>0.63</td>\n",
       "      <td>JJ_1</td>\n",
       "    </tr>\n",
       "    <tr>\n",
       "      <th>2</th>\n",
       "      <td>0.85</td>\n",
       "      <td>JJ_1</td>\n",
       "    </tr>\n",
       "    <tr>\n",
       "      <th>3</th>\n",
       "      <td>0.44</td>\n",
       "      <td>JJ_1</td>\n",
       "    </tr>\n",
       "    <tr>\n",
       "      <th>4</th>\n",
       "      <td>0.61</td>\n",
       "      <td>JJ_1</td>\n",
       "    </tr>\n",
       "    <tr>\n",
       "      <th>...</th>\n",
       "      <td>...</td>\n",
       "      <td>...</td>\n",
       "    </tr>\n",
       "    <tr>\n",
       "      <th>79</th>\n",
       "      <td>9.99</td>\n",
       "      <td>JJ_4</td>\n",
       "    </tr>\n",
       "    <tr>\n",
       "      <th>80</th>\n",
       "      <td>16.20</td>\n",
       "      <td>JJ_4</td>\n",
       "    </tr>\n",
       "    <tr>\n",
       "      <th>81</th>\n",
       "      <td>14.67</td>\n",
       "      <td>JJ_4</td>\n",
       "    </tr>\n",
       "    <tr>\n",
       "      <th>82</th>\n",
       "      <td>16.02</td>\n",
       "      <td>JJ_4</td>\n",
       "    </tr>\n",
       "    <tr>\n",
       "      <th>83</th>\n",
       "      <td>11.61</td>\n",
       "      <td>JJ_4</td>\n",
       "    </tr>\n",
       "  </tbody>\n",
       "</table>\n",
       "<p>84 rows × 2 columns</p>\n",
       "</div>"
      ],
      "text/plain": [
       "    score group\n",
       "0    0.71  JJ_1\n",
       "1    0.63  JJ_1\n",
       "2    0.85  JJ_1\n",
       "3    0.44  JJ_1\n",
       "4    0.61  JJ_1\n",
       "..    ...   ...\n",
       "79   9.99  JJ_4\n",
       "80  16.20  JJ_4\n",
       "81  14.67  JJ_4\n",
       "82  16.02  JJ_4\n",
       "83  11.61  JJ_4\n",
       "\n",
       "[84 rows x 2 columns]"
      ]
     },
     "execution_count": 31,
     "metadata": {},
     "output_type": "execute_result"
    }
   ],
   "source": [
    "df"
   ]
  },
  {
   "cell_type": "code",
   "execution_count": 32,
   "id": "4884d330-6e9f-49ae-8faf-84d774c95986",
   "metadata": {},
   "outputs": [
    {
     "name": "stdout",
     "output_type": "stream",
     "text": [
      "Multiple Comparison of Means - Tukey HSD, FWER=0.05 \n",
      "====================================================\n",
      "group1 group2 meandiff p-adj   lower   upper  reject\n",
      "----------------------------------------------------\n",
      "  JJ_1   JJ_2   1.1276 0.1281 -0.2088   2.464  False\n",
      "  JJ_1   JJ_3     4.61  0.001  3.2736  5.9464   True\n",
      "  JJ_1   JJ_4  10.1986  0.001  8.8622  11.535   True\n",
      "  JJ_2   JJ_3   3.4824  0.001   2.146  4.8188   True\n",
      "  JJ_2   JJ_4    9.071  0.001  7.7346 10.4073   True\n",
      "  JJ_3   JJ_4   5.5886  0.001  4.2522   6.925   True\n",
      "----------------------------------------------------\n"
     ]
    }
   ],
   "source": [
    "tukey=pairwise_tukeyhsd(df[\"score\"],\n",
    "                        df[\"group\"],\n",
    "                        alpha =0.05)\n",
    "print(tukey)"
   ]
  },
  {
   "cell_type": "markdown",
   "id": "dadb4b7f-e0bb-4677-a653-cba1fee12d46",
   "metadata": {},
   "source": [
    "#### Между первым и вторым кварталом различий не найдено, между остальными - разиличия существуют"
   ]
  },
  {
   "cell_type": "markdown",
   "id": "c5b34c2d-e024-4a6c-9a3f-e6b5d4a1c4ae",
   "metadata": {},
   "source": [
    "## Задача 4.\n",
    "Даны веса пациентов\n",
    "Используйте  alternative='greater‘\n",
    "alternative=‘less‘\n",
    "'two-sided'\n",
    "До 92.8 , 95.6, 92.1, 100.6, 96.2, 92.1, 96.7, 97.6, 97.0, 93.9\n",
    "После 87.1, 84.1, 81.3, 77.0, 86.0, 82.9, 83.0, 85.5, 85.2, 84.6"
   ]
  },
  {
   "cell_type": "code",
   "execution_count": 33,
   "id": "26080c26-2a0c-4bc5-a2b5-f5e75cf802bc",
   "metadata": {},
   "outputs": [],
   "source": [
    "before = np.array([92.8 , 95.6, 92.1, 100.6, 96.2, 92.1, 96.7, 97.6, 97.0, 93.9])"
   ]
  },
  {
   "cell_type": "code",
   "execution_count": 34,
   "id": "fb2eea52-484d-4c8a-888e-3e57c6c485b0",
   "metadata": {},
   "outputs": [],
   "source": [
    "after = np.array([87.1, 84.1, 81.3, 77.0, 86.0, 82.9, 83.0, 85.5, 85.2, 84.6])"
   ]
  },
  {
   "cell_type": "code",
   "execution_count": 35,
   "id": "d2fd807b-b864-459a-8b10-db876158dfe7",
   "metadata": {},
   "outputs": [
    {
     "data": {
      "text/plain": [
       "Ttest_relResult(statistic=7.972831441034037, pvalue=2.2744427446816035e-05)"
      ]
     },
     "execution_count": 35,
     "metadata": {},
     "output_type": "execute_result"
    }
   ],
   "source": [
    "stats.ttest_rel(before,after, alternative='two-sided') # двусторонний тест"
   ]
  },
  {
   "cell_type": "code",
   "execution_count": 36,
   "id": "710b105e-c0bb-409e-b859-502a7f43c592",
   "metadata": {},
   "outputs": [
    {
     "data": {
      "text/plain": [
       "Ttest_relResult(statistic=7.972831441034037, pvalue=1.1372213723408018e-05)"
      ]
     },
     "execution_count": 36,
     "metadata": {},
     "output_type": "execute_result"
    }
   ],
   "source": [
    "stats.ttest_rel(before,after, alternative='greater') # H0: before > after, H1: before<after -> верна H1"
   ]
  },
  {
   "cell_type": "code",
   "execution_count": 37,
   "id": "b48e4d17-ce0f-4fc4-a5ac-634f26503741",
   "metadata": {},
   "outputs": [
    {
     "data": {
      "text/plain": [
       "Ttest_relResult(statistic=7.972831441034037, pvalue=0.9999886277862766)"
      ]
     },
     "execution_count": 37,
     "metadata": {},
     "output_type": "execute_result"
    }
   ],
   "source": [
    "stats.ttest_rel(before,after, alternative='less') # H0: before < after, H1: before > after -> верна H0"
   ]
  },
  {
   "cell_type": "markdown",
   "id": "f9bd7f8c-03d6-4bbc-ad57-e71768c94d7d",
   "metadata": {},
   "source": [
    "## Домашнее задание\n",
    "Провести дисперсионный анализ для определения того, есть ли различия среднего роста среди взрослых футболистов, хоккеистов и штангистов. Даны значения роста в трех группах случайно выбранных спортсменов: Футболисты: 173, 175, 180, 178, 177, 185, 183, 182. Хоккеисты: 177, 179, 180, 188, 177, 172, 171, 184, 180. Штангисты: 172, 173, 169, 177, 166, 180, 178, 177, 172, 166, 170."
   ]
  },
  {
   "cell_type": "code",
   "execution_count": 38,
   "id": "b921728c-9a3a-4568-b6ed-068d111c4fcf",
   "metadata": {},
   "outputs": [],
   "source": [
    "a = np.array([173, 175, 180, 178, 177, 185, 183, 182])"
   ]
  },
  {
   "cell_type": "code",
   "execution_count": 39,
   "id": "51441187-c203-4c9a-a3cc-19229d657407",
   "metadata": {},
   "outputs": [],
   "source": [
    "b = np.array([177, 179, 180, 188, 177, 172, 171, 184, 180])"
   ]
  },
  {
   "cell_type": "code",
   "execution_count": 40,
   "id": "18510535-f246-459d-934d-c028ece2a57e",
   "metadata": {},
   "outputs": [],
   "source": [
    "c = np.array([172, 173, 169, 177, 166, 180, 178, 177, 172, 166, 170])"
   ]
  },
  {
   "cell_type": "code",
   "execution_count": 41,
   "id": "a56604ba-8675-428e-884e-5f284315dc36",
   "metadata": {},
   "outputs": [
    {
     "data": {
      "text/plain": [
       "ShapiroResult(statistic=0.9775081276893616, pvalue=0.9495397210121155)"
      ]
     },
     "execution_count": 41,
     "metadata": {},
     "output_type": "execute_result"
    }
   ],
   "source": [
    "stats.shapiro(a) # нормальное распределение"
   ]
  },
  {
   "cell_type": "code",
   "execution_count": 42,
   "id": "64805430-c721-45b0-ba49-7ca388e2a5da",
   "metadata": {},
   "outputs": [
    {
     "data": {
      "text/plain": [
       "ShapiroResult(statistic=0.9579195976257324, pvalue=0.7763133645057678)"
      ]
     },
     "execution_count": 42,
     "metadata": {},
     "output_type": "execute_result"
    }
   ],
   "source": [
    "stats.shapiro(b)  # нормальное распределение"
   ]
  },
  {
   "cell_type": "code",
   "execution_count": 43,
   "id": "18327b95-1101-4df4-95b0-d37d0d559ddb",
   "metadata": {},
   "outputs": [
    {
     "data": {
      "text/plain": [
       "ShapiroResult(statistic=0.93868088722229, pvalue=0.5051169991493225)"
      ]
     },
     "execution_count": 43,
     "metadata": {},
     "output_type": "execute_result"
    }
   ],
   "source": [
    "stats.shapiro(c)  # нормальное распределение"
   ]
  },
  {
   "cell_type": "code",
   "execution_count": 48,
   "id": "82314a95-35b8-4fec-b6ad-8054a69f685d",
   "metadata": {},
   "outputs": [
    {
     "data": {
      "text/plain": [
       "BartlettResult(statistic=0.4640521043406442, pvalue=0.7929254656083131)"
      ]
     },
     "execution_count": 48,
     "metadata": {},
     "output_type": "execute_result"
    }
   ],
   "source": [
    "stats.bartlett(a, b, c)"
   ]
  },
  {
   "cell_type": "code",
   "execution_count": 52,
   "id": "240f5300-3486-41b2-8363-0ad53015b64a",
   "metadata": {},
   "outputs": [],
   "source": [
    "from scipy.stats import f_oneway"
   ]
  },
  {
   "cell_type": "code",
   "execution_count": 54,
   "id": "1b4d2628-e188-4b44-a8fc-33d871ab9edf",
   "metadata": {},
   "outputs": [
    {
     "data": {
      "text/plain": [
       "F_onewayResult(statistic=5.500053450812596, pvalue=0.010482206918698694)"
      ]
     },
     "execution_count": 54,
     "metadata": {},
     "output_type": "execute_result"
    }
   ],
   "source": [
    "f_oneway(a,b,c)"
   ]
  },
  {
   "cell_type": "markdown",
   "id": "27a9b665-68e2-455f-93ad-4b0573ca8fe3",
   "metadata": {},
   "source": [
    "### Ответ: поскольку p value < 0.05, то верна альтернативная гипотеза - статистически значимая разница между ростом спортсменов существует"
   ]
  },
  {
   "cell_type": "code",
   "execution_count": 55,
   "id": "6c95f87c-e8eb-443d-a596-d18f2aca73af",
   "metadata": {},
   "outputs": [],
   "source": [
    "# data=pd.DataFrame({\"score_1\":[173, 175, 180, 178, 177, 185, 183, 182,173, 175, 180, 178, 177, 185, 183, 182,172, 173, 169, 177, 166, 180, 178, 177],\n",
    "                # \"group_1\":np.repeat([\"a\",\"b\",\"c\"], repeats =8)})"
   ]
  },
  {
   "cell_type": "code",
   "execution_count": 56,
   "id": "27f0067f-f953-4d3e-976f-31adb7715858",
   "metadata": {},
   "outputs": [],
   "source": [
    "#data"
   ]
  },
  {
   "cell_type": "code",
   "execution_count": 57,
   "id": "2b07e96d-2ab2-4bc3-badc-fc2967692867",
   "metadata": {},
   "outputs": [],
   "source": [
    "#tukey=pairwise_tukeyhsd(data[\"score_1\"],\n",
    "                        #data[\"group_1\"],\n",
    "                        #alpha =0.05)\n",
    "#print(tukey)"
   ]
  },
  {
   "cell_type": "markdown",
   "id": "0d840703-ec4e-414f-b51a-97e0d6a39716",
   "metadata": {},
   "source": []
  },
  {
   "cell_type": "code",
   "execution_count": null,
   "id": "d8c24be0-2a93-4125-be8c-29114ac55fc4",
   "metadata": {},
   "outputs": [],
   "source": []
  }
 ],
 "metadata": {
  "kernelspec": {
   "display_name": "Python 3 (ipykernel)",
   "language": "python",
   "name": "python3"
  },
  "language_info": {
   "codemirror_mode": {
    "name": "ipython",
    "version": 3
   },
   "file_extension": ".py",
   "mimetype": "text/x-python",
   "name": "python",
   "nbconvert_exporter": "python",
   "pygments_lexer": "ipython3",
   "version": "3.9.7"
  }
 },
 "nbformat": 4,
 "nbformat_minor": 5
}
