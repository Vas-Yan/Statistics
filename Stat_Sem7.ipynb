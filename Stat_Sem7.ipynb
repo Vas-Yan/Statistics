{
 "cells": [
  {
   "cell_type": "code",
   "execution_count": 2,
   "id": "a75cee19-f267-4f90-b60f-55ee5b0e9c2d",
   "metadata": {},
   "outputs": [],
   "source": [
    "import scipy.stats as stats\n",
    "import numpy as np"
   ]
  },
  {
   "cell_type": "markdown",
   "id": "2fac23ec-b7cb-48d1-a9c7-67c4e405bee2",
   "metadata": {},
   "source": [
    "## Задание 1.\n",
    "Рассчитать критерий Манна-Уитни для выборок"
   ]
  },
  {
   "cell_type": "code",
   "execution_count": 3,
   "id": "2383a908-4626-41e6-8e22-6fa40e12e1b4",
   "metadata": {},
   "outputs": [],
   "source": [
    "group_1 = np.array([1000, 1300, 1200])\n",
    "group_2 = np.array([1400, 1600, 1180, 1220])"
   ]
  },
  {
   "cell_type": "code",
   "execution_count": 4,
   "id": "6e172ece-9240-409c-9a31-87e8fcd09ecd",
   "metadata": {},
   "outputs": [
    {
     "data": {
      "text/plain": [
       "MannwhitneyuResult(statistic=3.0, pvalue=0.4)"
      ]
     },
     "execution_count": 4,
     "metadata": {},
     "output_type": "execute_result"
    }
   ],
   "source": [
    "stats.mannwhitneyu(group_1,group_2)"
   ]
  },
  {
   "cell_type": "markdown",
   "id": "d9992f58-16eb-4403-8128-6f2e44d2ff5c",
   "metadata": {},
   "source": [
    "## Задание 2."
   ]
  },
  {
   "cell_type": "code",
   "execution_count": 5,
   "id": "72fed1cd-4d6a-4404-9855-667fcafa8109",
   "metadata": {},
   "outputs": [],
   "source": [
    "X = np.array([20,17, 14, 42, 50, 62, 8, 49, 81, 54, 48, 55, 56])\n",
    "Y = np.array ([20, 26, 1, 24, 1, 47, 15, 7, 65, 9, 21, 36, 30])"
   ]
  },
  {
   "cell_type": "code",
   "execution_count": 6,
   "id": "0b580a21-480d-44f3-a18a-08f8c896a19e",
   "metadata": {},
   "outputs": [
    {
     "name": "stderr",
     "output_type": "stream",
     "text": [
      "/Users/macbookpro/opt/anaconda3/lib/python3.9/site-packages/scipy/stats/morestats.py:3141: UserWarning: Exact p-value calculation does not work if there are ties. Switching to normal approximation.\n",
      "  warnings.warn(\"Exact p-value calculation does not work if there are \"\n"
     ]
    },
    {
     "data": {
      "text/plain": [
       "WilcoxonResult(statistic=3.0, pvalue=0.004741768038406972)"
      ]
     },
     "execution_count": 6,
     "metadata": {},
     "output_type": "execute_result"
    }
   ],
   "source": [
    "stats.wilcoxon(X,Y)"
   ]
  },
  {
   "cell_type": "code",
   "execution_count": 7,
   "id": "2ea0f88c-5f56-4590-a413-2e0ab22cb451",
   "metadata": {},
   "outputs": [],
   "source": [
    "X_2 = np.array([ 32, 41, 51, 29, 76, 47, 60, 58, 40, 64, 73, 66, 73])\n",
    "Y_2= np.array ([42, 90, 71, 47, 56, 43, 137, 63, 28, 60, 87, 69, 50])"
   ]
  },
  {
   "cell_type": "code",
   "execution_count": 8,
   "id": "a4848ea3-580c-4246-85a2-e28790b7d414",
   "metadata": {},
   "outputs": [
    {
     "data": {
      "text/plain": [
       "WilcoxonResult(statistic=31.5, pvalue=0.339599609375)"
      ]
     },
     "execution_count": 8,
     "metadata": {},
     "output_type": "execute_result"
    }
   ],
   "source": [
    "stats.wilcoxon(X_2,Y_2)"
   ]
  },
  {
   "cell_type": "markdown",
   "id": "5606906b-d871-4228-9436-253351d98073",
   "metadata": {},
   "source": [
    "## Задание 3."
   ]
  },
  {
   "cell_type": "code",
   "execution_count": 9,
   "id": "98e0ec27-225b-4d79-9653-8eed90e9c540",
   "metadata": {},
   "outputs": [],
   "source": [
    "A = np.array([3.5, 3.3, 4.9, 3.6])\n",
    "B = np.array([8.6, 5.4, 8.8, 5.6])\n",
    "C = np.array([5.1, 8.6, 7.7, 5.0])"
   ]
  },
  {
   "cell_type": "code",
   "execution_count": 10,
   "id": "9f4ef415-abc1-4b7e-8db9-123eaeaf38a5",
   "metadata": {},
   "outputs": [
    {
     "data": {
      "text/plain": [
       "FriedmanchisquareResult(statistic=6.5, pvalue=0.03877420783172202)"
      ]
     },
     "execution_count": 10,
     "metadata": {},
     "output_type": "execute_result"
    }
   ],
   "source": [
    "stats.friedmanchisquare(A,B,C)"
   ]
  },
  {
   "cell_type": "markdown",
   "id": "63ec60f9-d1c7-43a6-bcf2-e2aba9942cbf",
   "metadata": {},
   "source": [
    "## Задание 4."
   ]
  },
  {
   "cell_type": "code",
   "execution_count": 11,
   "id": "cb5508e9-bb57-4244-b52c-d0c5f973108e",
   "metadata": {},
   "outputs": [],
   "source": [
    "gr1=np.array([0.5, 0.7, 1, 1.2, 1.4])\n",
    "gr2= np.array([1.3, 1.45, 1.6, 1.7, 1.8])\n",
    "gr3=np.array([6.2, 12.6, 13.2, 14.1, 14.2])"
   ]
  },
  {
   "cell_type": "code",
   "execution_count": 12,
   "id": "b7044d34-3ed6-4af3-9c86-5de26f7fc15f",
   "metadata": {},
   "outputs": [
    {
     "data": {
      "text/plain": [
       "KruskalResult(statistic=12.02000000000001, pvalue=0.002454088180413905)"
      ]
     },
     "execution_count": 12,
     "metadata": {},
     "output_type": "execute_result"
    }
   ],
   "source": [
    "stats.kruskal(gr1,gr2,gr3)"
   ]
  },
  {
   "cell_type": "markdown",
   "id": "2b252d32-62cf-490b-b3de-0e8974fd1402",
   "metadata": {},
   "source": [
    "# Домашнее задание"
   ]
  },
  {
   "cell_type": "markdown",
   "id": "77c2ea13-4449-423d-8855-1c8e00eb0b51",
   "metadata": {},
   "source": [
    "## Задание 1.\n",
    "Даны две независимые выборки. Не соблюдается условие нормальности\n",
    "x1 380,420, 290\n",
    "y1 140,360,200,900\n",
    "Сделайте вывод по результатам, полученным с помощью функции"
   ]
  },
  {
   "cell_type": "markdown",
   "id": "9c30c83a-cf79-4b52-84a7-62190bc44bd6",
   "metadata": {},
   "source": [
    "####  2 независимые выборки, нормальность не соблюдается. Следовательно, выбираем притерий Манна - Уитни"
   ]
  },
  {
   "cell_type": "code",
   "execution_count": 13,
   "id": "5dda0440-60a5-4f59-afe3-e43ed106e2ce",
   "metadata": {},
   "outputs": [],
   "source": [
    "x = np.array([380, 420, 290])\n",
    "y = np.array([140,360,200,900])"
   ]
  },
  {
   "cell_type": "code",
   "execution_count": 14,
   "id": "56b1dcd3-41ee-4def-86c2-a08f7dfd0415",
   "metadata": {},
   "outputs": [
    {
     "data": {
      "text/plain": [
       "MannwhitneyuResult(statistic=8.0, pvalue=0.6285714285714286)"
      ]
     },
     "execution_count": 14,
     "metadata": {},
     "output_type": "execute_result"
    }
   ],
   "source": [
    "stats.mannwhitneyu(x,y)"
   ]
  },
  {
   "cell_type": "markdown",
   "id": "e67cac6d-61e4-41e3-8ef2-0108990eea82",
   "metadata": {},
   "source": [
    "## Вывод: значение p-value больше любого альфа (1%, 5%, 10%), поэтому находимся в зоне нулевой гипотезы H0, следовательно, статистически значимые различия между выборками отсутствуют"
   ]
  },
  {
   "cell_type": "markdown",
   "id": "a457c58e-a8e0-4ac4-ab80-a899a9b476e4",
   "metadata": {},
   "source": [
    "## Задание 2.\n",
    "Исследовалось влияние препарата на уровень давления пациентов. Сначала измерялось давление до приема препарата, потом через 10 минут и через 30 минут. Есть ли статистически значимые различия?\n",
    "1е измерение до приема препарата: 150, 160, 165, 145, 155\n",
    "2е измерение через 10 минут: 140, 155, 150, 130, 135\n",
    "3е измерение через 30 минут: 130, 130, 120, 130, 125"
   ]
  },
  {
   "cell_type": "markdown",
   "id": "2b5840bc-496f-4e1b-b8a5-dd4f145f16fe",
   "metadata": {},
   "source": [
    "### более 2х выборок, имеет место случай повторных измерений (зависимые выборки). Следовательно, выбираем притерий Фридмана"
   ]
  },
  {
   "cell_type": "code",
   "execution_count": 15,
   "id": "b5373d15-1956-4693-a4a0-b3edf76a7e2a",
   "metadata": {},
   "outputs": [],
   "source": [
    "D = np.array([150, 160, 165, 145, 155])\n",
    "E = np.array([140, 155, 150, 130, 135])\n",
    "F = np.array([130, 130, 120, 130, 125])"
   ]
  },
  {
   "cell_type": "code",
   "execution_count": 16,
   "id": "1702aed5-8d75-4bc8-8174-3d3f1847fdc5",
   "metadata": {},
   "outputs": [
    {
     "data": {
      "text/plain": [
       "FriedmanchisquareResult(statistic=9.578947368421062, pvalue=0.00831683351100441)"
      ]
     },
     "execution_count": 16,
     "metadata": {},
     "output_type": "execute_result"
    }
   ],
   "source": [
    "stats.friedmanchisquare(D,E,F)"
   ]
  },
  {
   "cell_type": "markdown",
   "id": "d371ba02-e8b4-41af-8e66-9f5b8723e8a4",
   "metadata": {},
   "source": [
    "### Вывод: значение p-value меньше любого альфа (1%, 5%, 10%), поэтому находимся в зоне альтернативной гипотезы H1, следовательно, статистически значимые различия присутствуют. Препарат имеет действие на давление пациентов¶"
   ]
  },
  {
   "cell_type": "markdown",
   "id": "27e38ab7-3cc7-4f53-a6ad-badf5a3a2597",
   "metadata": {},
   "source": [
    "## Задание 3.\n",
    "Исследовалось влияние препарата на уровень давления пациентов. Сначала измерялось давление до приема препарата, потом через 10 минут. Есть ли статистически значимые различия? 1е измерение до приема препарата: 150, 160, 165, 145, 155 2е измерение через 10 минут: 140, 155, 150, 130, 135"
   ]
  },
  {
   "cell_type": "markdown",
   "id": "7b30d824-105d-44e9-91f0-e494a39652d7",
   "metadata": {},
   "source": [
    "#### 2 выборки, имеет место случай повторных измерений (зависимые выборки). Следовательно, выбираем критерий Уиклинсона"
   ]
  },
  {
   "cell_type": "code",
   "execution_count": 17,
   "id": "66a768c6-965b-4fdd-b137-e533e4a2eef1",
   "metadata": {},
   "outputs": [
    {
     "data": {
      "text/plain": [
       "WilcoxonResult(statistic=0.0, pvalue=0.0625)"
      ]
     },
     "execution_count": 17,
     "metadata": {},
     "output_type": "execute_result"
    }
   ],
   "source": [
    "stats.wilcoxon(D,E)"
   ]
  },
  {
   "cell_type": "markdown",
   "id": "fc51888e-a0bc-46dc-9d39-b575034aae4b",
   "metadata": {},
   "source": [
    "#### Вывод: значение p-value больше  альфа (1%, 5%), поэтому находимся в зоне нулевой гипотезы H0, следовательно, статистически значимые различия между выборками отсутствуют. Препарат не имеет действие на давление пациентов."
   ]
  },
  {
   "cell_type": "markdown",
   "id": "b9da2e8f-222b-404c-8ae3-cea8c6cb3887",
   "metadata": {},
   "source": [
    "## Задание 4.\n",
    "Даны 3 группы учеников плавания.\n",
    "В 1 группе время на дистанцию 50 м составляют:\n",
    "56, 60, 62, 55, 71, 67, 59, 58, 64, 67\n",
    "Вторая группа : 57, 58, 69, 48, 72, 70, 68, 71, 50, 53\n",
    "Третья группа: 57, 67, 49, 48, 47, 55, 66, 51, 54"
   ]
  },
  {
   "cell_type": "markdown",
   "id": "da9a10c9-45da-479d-9b3b-14a068284421",
   "metadata": {},
   "source": [
    "#### более 2х групп,независимые выборки. Следовательно, выбираем критерий Крускала-Уоллиса"
   ]
  },
  {
   "cell_type": "code",
   "execution_count": 18,
   "id": "43197e98-5b7e-46c6-93c6-62d30e7d1833",
   "metadata": {},
   "outputs": [],
   "source": [
    "H = np.array([56, 60, 62, 55, 71, 67, 59, 58, 64, 67])\n",
    "I = np.array([57, 58, 69, 48, 72, 70, 68, 71, 50, 53])\n",
    "J = np.array([57, 67, 49, 48, 47, 55, 66, 51, 54])"
   ]
  },
  {
   "cell_type": "code",
   "execution_count": 19,
   "id": "7423df82-3b83-44dc-9e27-12e9c99edc96",
   "metadata": {},
   "outputs": [
    {
     "data": {
      "text/plain": [
       "KruskalResult(statistic=5.465564058257224, pvalue=0.0650380998590494)"
      ]
     },
     "execution_count": 19,
     "metadata": {},
     "output_type": "execute_result"
    }
   ],
   "source": [
    "stats.kruskal(H,I,J)"
   ]
  },
  {
   "cell_type": "markdown",
   "id": "d5f97ed6-a322-4cd0-bd7b-f318c4079e98",
   "metadata": {},
   "source": [
    "#### Вывод: значение p-value больше  альфа (1%, 5%), поэтому находимся в зоне нулевой гипотезы H0, следовательно, статистически значимые различия между выборками отсутствуют. Существенных различий в методике тренировок между группами плавцов, которые могли бы повлиять на результаты спортсменов, нет."
   ]
  },
  {
   "cell_type": "markdown",
   "id": "287e395b-7b43-4851-b176-990da496a6c9",
   "metadata": {},
   "source": [
    "## Задание 5.\n",
    "Заявляется, что партия изготавливается со средним арифметическим 2,5 см. Проверить данную гипотезу, если известно, что размеры изделий подчинены нормальному закону распределения. Объем выборки 10, уровень статистической значимости 5%\n",
    "2.51, 2.35, 2.74, 2.56, 2.40, 2.36, 2.65, 2.7, 2.67, 2.34"
   ]
  },
  {
   "cell_type": "code",
   "execution_count": 20,
   "id": "edc52173-fac3-4253-b47e-2440feebe00c",
   "metadata": {},
   "outputs": [],
   "source": [
    "U = np.array([2.51, 2.35, 2.74, 2.56, 2.40, 2.36, 2.65, 2.7, 2.67, 2.34])"
   ]
  },
  {
   "cell_type": "code",
   "execution_count": 21,
   "id": "69be79dd-cbf0-407f-bfea-fc4006aa8320",
   "metadata": {},
   "outputs": [
    {
     "data": {
      "text/plain": [
       "2.5279999999999996"
      ]
     },
     "execution_count": 21,
     "metadata": {},
     "output_type": "execute_result"
    }
   ],
   "source": [
    "np.mean(U)"
   ]
  },
  {
   "cell_type": "code",
   "execution_count": 22,
   "id": "9d6cd16c-cb1a-4a83-b6d8-d16bf67695e5",
   "metadata": {},
   "outputs": [
    {
     "data": {
      "text/plain": [
       "0.1572542173961923"
      ]
     },
     "execution_count": 22,
     "metadata": {},
     "output_type": "execute_result"
    }
   ],
   "source": [
    "np.std(U,ddof = 1)"
   ]
  },
  {
   "cell_type": "code",
   "execution_count": 23,
   "id": "1ff2dae7-bc27-4101-bffe-a1a55803875c",
   "metadata": {},
   "outputs": [
    {
     "data": {
      "text/plain": [
       "10"
      ]
     },
     "execution_count": 23,
     "metadata": {},
     "output_type": "execute_result"
    }
   ],
   "source": [
    "len(U)"
   ]
  },
  {
   "cell_type": "code",
   "execution_count": 24,
   "id": "c64f3f4a-fdf0-4479-b211-0efd120cf07f",
   "metadata": {},
   "outputs": [
    {
     "data": {
      "text/plain": [
       "0.5630613661803049"
      ]
     },
     "execution_count": 24,
     "metadata": {},
     "output_type": "execute_result"
    }
   ],
   "source": [
    "t = (2.528-2.5)/(0.1572542173961923/np.sqrt(10))\n",
    "t"
   ]
  },
  {
   "cell_type": "markdown",
   "id": "b68b24be-8074-4472-8559-a21290baf94d",
   "metadata": {},
   "source": [
    "#### t табличное при двустороннем тесте (при a/2 и k = 9) = 2,262\n",
    "поскольку t расчетное < t табличного, то H0 верна (т.е. партия изготавливается со средним арифметическим равным 2.5)"
   ]
  },
  {
   "cell_type": "code",
   "execution_count": null,
   "id": "0e1dbdc2-eda2-47f9-8baf-37fd2076cf00",
   "metadata": {},
   "outputs": [],
   "source": []
  }
 ],
 "metadata": {
  "kernelspec": {
   "display_name": "Python 3 (ipykernel)",
   "language": "python",
   "name": "python3"
  },
  "language_info": {
   "codemirror_mode": {
    "name": "ipython",
    "version": 3
   },
   "file_extension": ".py",
   "mimetype": "text/x-python",
   "name": "python",
   "nbconvert_exporter": "python",
   "pygments_lexer": "ipython3",
   "version": "3.9.7"
  }
 },
 "nbformat": 4,
 "nbformat_minor": 5
}
