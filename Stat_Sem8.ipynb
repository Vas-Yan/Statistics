{
 "cells": [
  {
   "cell_type": "markdown",
   "id": "0f96a422-28e9-49c7-b519-63829ae2a5dc",
   "metadata": {},
   "source": [
    "## Задание 1. \n",
    "Проведено 4 эксперимента. Для каждого построить график и посчитать коэффциенты корреляции Пирсона"
   ]
  },
  {
   "cell_type": "code",
   "execution_count": 59,
   "id": "8a511f2c-9fe1-40dd-af38-7afc49781a30",
   "metadata": {},
   "outputs": [],
   "source": [
    "import scipy.stats as stats\n",
    "import numpy as np\n",
    "import matplotlib.pyplot as plt"
   ]
  },
  {
   "cell_type": "code",
   "execution_count": 60,
   "id": "d9df6f8e-5722-47ab-95f5-75c2caf9c2c9",
   "metadata": {},
   "outputs": [],
   "source": [
    "x = np.array([10, 8, 13, 9, 11, 14, 6, 4, 12, 7, 5])\n",
    "y = np.array([8.04, 6.95, 7.58, 8.81, 8.33, 9.96, 7.24, 4.26, 10.84, 4.82, 5.68 ])"
   ]
  },
  {
   "cell_type": "code",
   "execution_count": 61,
   "id": "ac5bfff5-c4ee-4012-85d8-48e2bf711676",
   "metadata": {},
   "outputs": [
    {
     "data": {
      "text/plain": [
       "array([[1.        , 0.81642052],\n",
       "       [0.81642052, 1.        ]])"
      ]
     },
     "execution_count": 61,
     "metadata": {},
     "output_type": "execute_result"
    }
   ],
   "source": [
    "np.corrcoef(x,y)"
   ]
  },
  {
   "cell_type": "code",
   "execution_count": 62,
   "id": "a8cfabef-a92a-42dd-80e2-238f2b8e39d2",
   "metadata": {},
   "outputs": [
    {
     "data": {
      "image/png": "[encoded data removed]",
      "text/plain": [
       "<Figure size 432x288 with 1 Axes>"
      ]
     },
     "metadata": {
      "needs_background": "light"
     },
     "output_type": "display_data"
    }
   ],
   "source": [
    "plt.scatter(x, y)\n",
    "plt.title('r = 0.81642052')\n",
    "plt.xlabel('x')\n",
    "plt.ylabel('y')\n",
    "plt.show()"
   ]
  },
  {
   "cell_type": "code",
   "execution_count": 63,
   "id": "8b239c32-9567-40ec-b4b9-5d679c6b90c8",
   "metadata": {},
   "outputs": [],
   "source": [
    "x= np.array([10, 8, 13, 9, 11, 14, 6, 4, 12, 7, 5])\n",
    "y2 = np.array([ 9.14, 8.14, 8.74,8.77, 9.26, 8.10, 6.13, 3.10, 9.13, 7.26, 4.74])"
   ]
  },
  {
   "cell_type": "code",
   "execution_count": 64,
   "id": "052c675b-9812-4cb1-a918-9ffdd0ced24d",
   "metadata": {},
   "outputs": [
    {
     "data": {
      "text/plain": [
       "array([[1.        , 0.81623651],\n",
       "       [0.81623651, 1.        ]])"
      ]
     },
     "execution_count": 64,
     "metadata": {},
     "output_type": "execute_result"
    }
   ],
   "source": [
    "np.corrcoef(x,y2)"
   ]
  },
  {
   "cell_type": "code",
   "execution_count": 65,
   "id": "6432dacc-bfe6-4e82-b1b0-bd56e711de1c",
   "metadata": {},
   "outputs": [
    {
     "data": {
      "image/png": "[encoded data removed]",
      "text/plain": [
       "<Figure size 432x288 with 1 Axes>"
      ]
     },
     "metadata": {
      "needs_background": "light"
     },
     "output_type": "display_data"
    }
   ],
   "source": [
    "plt.scatter(x, y2)\n",
    "plt.title('r= 0.81623651')\n",
    "plt.xlabel('x')\n",
    "plt.ylabel('y')\n",
    "plt.show()"
   ]
  },
  {
   "cell_type": "code",
   "execution_count": 66,
   "id": "801ba87f-e0a6-48a9-be42-a4cc9b7710fe",
   "metadata": {},
   "outputs": [],
   "source": [
    "x= np.array([10, 8, 13, 9, 11, 14, 6, 4, 12, 7,5])\n",
    "y3 = np.array([7.46,6.77, 12.74, 7.11, 7.81, 8.84, 6.08, 5.39, 8.15, 6.42, 5.73])"
   ]
  },
  {
   "cell_type": "code",
   "execution_count": 67,
   "id": "2362714d-f95c-4ed3-a9f5-3ebb7cb1bf80",
   "metadata": {},
   "outputs": [
    {
     "data": {
      "text/plain": [
       "array([[1.        , 0.81628674],\n",
       "       [0.81628674, 1.        ]])"
      ]
     },
     "execution_count": 67,
     "metadata": {},
     "output_type": "execute_result"
    }
   ],
   "source": [
    "np.corrcoef(x,y3)"
   ]
  },
  {
   "cell_type": "code",
   "execution_count": 68,
   "id": "98ba9145-c242-4470-99e9-fbbccb3823ea",
   "metadata": {},
   "outputs": [
    {
     "data": {
      "image/png": "[encoded data removed]",
      "text/plain": [
       "<Figure size 432x288 with 1 Axes>"
      ]
     },
     "metadata": {
      "needs_background": "light"
     },
     "output_type": "display_data"
    }
   ],
   "source": [
    "plt.scatter(x, y3)\n",
    "plt.title('r= 0.81628674')\n",
    "plt.xlabel('x')\n",
    "plt.ylabel('y')\n",
    "plt.show()"
   ]
  },
  {
   "cell_type": "code",
   "execution_count": 69,
   "id": "2a235747-d6a7-46fd-b1c6-f22c5abecb88",
   "metadata": {},
   "outputs": [],
   "source": [
    "x4 = np.array([8, 8, 8, 8, 8, 8, 8, 19, 8, 8, 8])\n",
    "y4 = np.array([6.58, 5.76, 7.71, 8.84, 8.47, 7.04, 5.25,12.5, 5.56, 7.91, 6.89])"
   ]
  },
  {
   "cell_type": "code",
   "execution_count": 70,
   "id": "30f3ef2a-de59-4c4d-8dbb-ea5c50620e63",
   "metadata": {},
   "outputs": [
    {
     "data": {
      "text/plain": [
       "array([[1.        , 0.81652144],\n",
       "       [0.81652144, 1.        ]])"
      ]
     },
     "execution_count": 70,
     "metadata": {},
     "output_type": "execute_result"
    }
   ],
   "source": [
    "np.corrcoef(x4,y4)"
   ]
  },
  {
   "cell_type": "code",
   "execution_count": 71,
   "id": "9387f1ca-9623-472a-850a-f853fbffc9cb",
   "metadata": {},
   "outputs": [
    {
     "data": {
      "image/png": "[encoded data removed]",
      "text/plain": [
       "<Figure size 432x288 with 1 Axes>"
      ]
     },
     "metadata": {
      "needs_background": "light"
     },
     "output_type": "display_data"
    }
   ],
   "source": [
    "plt.scatter(x4, y4)\n",
    "plt.title('r= 0.81652144')\n",
    "plt.xlabel('x')\n",
    "plt.ylabel('y')\n",
    "plt.show()"
   ]
  },
  {
   "cell_type": "code",
   "execution_count": 72,
   "id": "64cef8e2-0e51-4419-91b8-8fb198dbcd2c",
   "metadata": {},
   "outputs": [],
   "source": [
    "x0= np.array([10, 8, 13, 9, 11, 14, 6, 4, 12, 7,5,  15, 16, 18])\n",
    "y0 = np.array([ 9.14, 8.14, 8.74,8.77, 9.26, 8.10, 6.13, 3.10, 9.13, 7.26, 4.74, 6.5, 5, 2.9])"
   ]
  },
  {
   "cell_type": "code",
   "execution_count": 73,
   "id": "f02a186c-58ff-401d-94cc-c52f15a7829c",
   "metadata": {},
   "outputs": [
    {
     "data": {
      "text/plain": [
       "array([[1.        , 0.02245218],\n",
       "       [0.02245218, 1.        ]])"
      ]
     },
     "execution_count": 73,
     "metadata": {},
     "output_type": "execute_result"
    }
   ],
   "source": [
    "np.corrcoef(x0,y0)"
   ]
  },
  {
   "cell_type": "code",
   "execution_count": 74,
   "id": "4ab15489-5daa-4270-b13e-50971dd64404",
   "metadata": {},
   "outputs": [
    {
     "data": {
      "image/png": "[encoded data removed]",
      "text/plain": [
       "<Figure size 432x288 with 1 Axes>"
      ]
     },
     "metadata": {
      "needs_background": "light"
     },
     "output_type": "display_data"
    }
   ],
   "source": [
    "plt.scatter(x0, y0)\n",
    "plt.title('r= 0.02245218')\n",
    "plt.xlabel('x')\n",
    "plt.ylabel('y')\n",
    "plt.show()"
   ]
  },
  {
   "cell_type": "markdown",
   "id": "3cd1a3ef-28d3-4a49-8e1a-b871e7b279cd",
   "metadata": {},
   "source": [
    "## Задание 2.1\n",
    "Провести двусторонний тест и ответить на вопрос, есть ли статистически значимые различия между средними 2х нормально распределенных генеральных совокупностей, представленных следующими независимыми выборками.\n",
    "Уровень статистической значимости принять за 5%\n",
    "1. Используйте функцию в Python:"
   ]
  },
  {
   "cell_type": "code",
   "execution_count": 75,
   "id": "4a42b2c7-93d4-42c2-a901-95952003144b",
   "metadata": {},
   "outputs": [],
   "source": [
    "a = np.array([12, 10, 11, 19, 13, 11, 17, 15, 19, 14, 21, 18, 21, 11, 17, 14, 15, 17, 20, 19])\n",
    "b = np.array([11, 13, 18, 15, 17, 18, 10, 21, 26, 15, 11, 12, 15, 17, 10, 18, 18, 12,21, 20])"
   ]
  },
  {
   "cell_type": "code",
   "execution_count": 76,
   "id": "06b2d5ba-6524-4f73-a877-d076539fda8c",
   "metadata": {},
   "outputs": [
    {
     "data": {
      "text/plain": [
       "Ttest_indResult(statistic=-0.1599663264228627, pvalue=0.8737549039369696)"
      ]
     },
     "execution_count": 76,
     "metadata": {},
     "output_type": "execute_result"
    }
   ],
   "source": [
    "stats.ttest_ind(a,b)"
   ]
  },
  {
   "cell_type": "markdown",
   "id": "6d1a0f1f-1b22-4d35-98d0-8eac6e2336c1",
   "metadata": {},
   "source": [
    "## Задание 2.2\n",
    "2. Имея p-value из функции рассчитать наблюдаемое значение критерия."
   ]
  },
  {
   "cell_type": "code",
   "execution_count": 77,
   "id": "64d2689e-cd2e-4fcf-8095-19b908dda6db",
   "metadata": {},
   "outputs": [
    {
     "data": {
      "text/plain": [
       "-0.15996632632476554"
      ]
     },
     "execution_count": 77,
     "metadata": {},
     "output_type": "execute_result"
    }
   ],
   "source": [
    "stats.t.ppf(0.8737549039369696/2,38) # ddof = n*2-1, двусторонний тест"
   ]
  },
  {
   "cell_type": "code",
   "execution_count": 78,
   "id": "67d6b754-e1be-484a-98a1-6f5f3563d75c",
   "metadata": {},
   "outputs": [
    {
     "data": {
      "text/plain": [
       "0.15996632632476554"
      ]
     },
     "execution_count": 78,
     "metadata": {},
     "output_type": "execute_result"
    }
   ],
   "source": [
    "stats.t.ppf(1-0.8737549039369696/2,38)"
   ]
  },
  {
   "cell_type": "code",
   "execution_count": 79,
   "id": "8c051945-5ee0-49d9-aa78-a5b860d8901c",
   "metadata": {},
   "outputs": [
    {
     "data": {
      "text/plain": [
       "0.43687745200685635"
      ]
     },
     "execution_count": 79,
     "metadata": {},
     "output_type": "execute_result"
    }
   ],
   "source": [
    "stats.t.cdf(-0.15996632632476554,38)"
   ]
  },
  {
   "cell_type": "code",
   "execution_count": 80,
   "id": "22666a2e-b98d-4cf8-9a61-48f5da4d5aa4",
   "metadata": {},
   "outputs": [
    {
     "data": {
      "text/plain": [
       "0.5631225479931437"
      ]
     },
     "execution_count": 80,
     "metadata": {},
     "output_type": "execute_result"
    }
   ],
   "source": [
    "stats.t.cdf(0.15996632632476554,38)"
   ]
  },
  {
   "cell_type": "code",
   "execution_count": 81,
   "id": "ebf39f37-1f5c-454a-815e-6e247f5740a3",
   "metadata": {},
   "outputs": [
    {
     "data": {
      "text/plain": [
       "Ttest_indResult(statistic=-0.1599663264228627, pvalue=0.5631225480315152)"
      ]
     },
     "execution_count": 81,
     "metadata": {},
     "output_type": "execute_result"
    }
   ],
   "source": [
    "stats.ttest_ind(a, b,alternative='greater', equal_var = True) # a>b односторонний тест"
   ]
  },
  {
   "cell_type": "code",
   "execution_count": 82,
   "id": "e658fb41-b063-495e-a2a9-60f90c74fff7",
   "metadata": {},
   "outputs": [
    {
     "data": {
      "text/plain": [
       "Ttest_indResult(statistic=-0.1599663264228627, pvalue=0.4368774519684848)"
      ]
     },
     "execution_count": 82,
     "metadata": {},
     "output_type": "execute_result"
    }
   ],
   "source": [
    "stats.ttest_ind(a, b,alternative='less', equal_var = True) # a<b односторонний тест"
   ]
  },
  {
   "cell_type": "markdown",
   "id": "6bdb1cb7-2a7e-43fb-b9ec-5ec609c24875",
   "metadata": {},
   "source": [
    "## Задание 3.\n",
    "В группе 21 студент (5 отличников, 10 хорошистов и 6 слабых). На экзамене отличник может получить только отлично, хорошист отлично или хорошо, а слабый - хорошо, удов или неудов (все с одинаковой вероятностью). Выбирается наугад 1 студент. Какова вероятность, что он получит хорошо или отлично"
   ]
  },
  {
   "cell_type": "code",
   "execution_count": 83,
   "id": "a69ef7a4-1485-4f14-8d7e-0445f9c5781d",
   "metadata": {},
   "outputs": [
    {
     "data": {
      "text/plain": [
       "0.8095238095238094"
      ]
     },
     "execution_count": 83,
     "metadata": {},
     "output_type": "execute_result"
    }
   ],
   "source": [
    "P_A = 5/21*1+10/21*1+6/21*1/3 # в вероятности может попасть отличник (его вероятность получить 5 или 4 = 1), хорошист (его веротяность получить 4 или 5 также 1) и слабый (но его вероятность 1/3 так как он попадает только из-за оценки хорошо)\n",
    "P_A"
   ]
  },
  {
   "cell_type": "markdown",
   "id": "f77c5160-107d-474b-a540-773f3d5dc912",
   "metadata": {},
   "source": [
    "## Задание 4.\n",
    "Некоторая продукция выпускается 2мя заводами. При этом объем продукции 2го завода в 3 раза больше объема продукции 1го завода. Доля брака у 1го - 2%, а у 2го - 1%. Изделие выпущено заводами за одинаковый промежуток времени. Изделия перемешали и отправили в продажу. Какова вероятность, что изделие бракованное, если оно со второго завода."
   ]
  },
  {
   "cell_type": "markdown",
   "id": "8a7bf67e-c8ef-4ff1-acca-9ef22fd52c71",
   "metadata": {},
   "source": [
    "#### Используем формулу Байеса\n",
    "##### p_a - вероятность, что деталь произведена на 2м заводе\n",
    "##### p_b - вероятность, что деталь бракованная\n",
    "##### p_b_a - вероятность брака на втором заводе\n",
    "##### p_a_b - вероятность, что бракованная деталь со 2го завода"
   ]
  },
  {
   "cell_type": "code",
   "execution_count": 84,
   "id": "f4649c30-8a75-4dc9-8e06-7494e6df39be",
   "metadata": {},
   "outputs": [],
   "source": [
    "p_a = 3/4 # вероятность, что изделие произведено на 2м заводе\n",
    "p_b = 3/4*0.01+1/4*0.02\n",
    "p_b_a = 0.01"
   ]
  },
  {
   "cell_type": "code",
   "execution_count": 85,
   "id": "1c2f84c4-2d4e-4709-a616-26ccb0a4e6f0",
   "metadata": {},
   "outputs": [
    {
     "data": {
      "text/plain": [
       "0.6"
      ]
     },
     "execution_count": 85,
     "metadata": {},
     "output_type": "execute_result"
    }
   ],
   "source": [
    "p_a_b = p_b_a*p_a/p_b\n",
    "p_a_b"
   ]
  },
  {
   "cell_type": "markdown",
   "id": "435f984b-a905-4bb2-b353-4d6efdc7b3aa",
   "metadata": {},
   "source": [
    "#### Ответ: вероятность, что бракованная деталь со 2го завода 60%"
   ]
  },
  {
   "cell_type": "markdown",
   "id": "3b95e835-4f14-471f-b6fa-d43b26c70d0e",
   "metadata": {},
   "source": [
    "# Домашнее задание"
   ]
  },
  {
   "cell_type": "markdown",
   "id": "516a298d-abf2-4d29-9bf0-20154c4143f3",
   "metadata": {},
   "source": [
    "## Задание 1\n",
    "Даны значения величины заработной платы заемщиков банка (zp) и значения их поведенческого кредитного скоринга (ks):\n",
    "zp = [35, 45, 190, 200, 40, 70, 54, 150, 120, 110],\n",
    "ks = [401, 574, 874, 919, 459, 739, 653, 902, 746, 832].\n",
    "Найдите ковариацию этих двух величин с помощью элементарных действий, а затем с помощью функции cov из numpy\n",
    "Полученные значения должны быть равны.\n",
    "Найдите коэффициент корреляции Пирсона с помощью ковариации и среднеквадратичных отклонений двух признаков,\n",
    "а затем с использованием функций из библиотек numpy и pandas."
   ]
  },
  {
   "cell_type": "code",
   "execution_count": 86,
   "id": "9724acf0-42c9-4808-bc7a-20cceda741ee",
   "metadata": {},
   "outputs": [],
   "source": [
    "zp = np.array([35, 45, 190, 200, 40, 70, 54, 150, 120, 110])"
   ]
  },
  {
   "cell_type": "code",
   "execution_count": 87,
   "id": "99540cf8-248c-412a-80d6-d649c045ff55",
   "metadata": {},
   "outputs": [],
   "source": [
    "ks = np.array([401, 574, 874, 919, 459, 739, 653, 902, 746, 832])"
   ]
  },
  {
   "cell_type": "code",
   "execution_count": 88,
   "id": "643c5778-0d9d-4d64-87d1-b3edffa6605e",
   "metadata": {},
   "outputs": [
    {
     "data": {
      "text/plain": [
       "9157.839999999997"
      ]
     },
     "execution_count": 88,
     "metadata": {},
     "output_type": "execute_result"
    }
   ],
   "source": [
    "covariation = np.mean(zp*ks) - np.mean(zp)*np.mean(ks) # коэффициент ковариации (смещенная)\n",
    "covariation"
   ]
  },
  {
   "cell_type": "code",
   "execution_count": 89,
   "id": "0453984e-2218-4027-8585-9b46d942316b",
   "metadata": {},
   "outputs": [
    {
     "data": {
      "text/plain": [
       "array([[ 3494.64,  9157.84],\n",
       "       [ 9157.84, 30468.89]])"
      ]
     },
     "execution_count": 89,
     "metadata": {},
     "output_type": "execute_result"
    }
   ],
   "source": [
    "result = np.cov(zp,ks,ddof = 0) # смещенная ковариация через встроенную формулу библиотеки\n",
    "result"
   ]
  },
  {
   "cell_type": "code",
   "execution_count": 90,
   "id": "ab8b3eeb-dc4f-46ea-8b22-9d2a3694567d",
   "metadata": {},
   "outputs": [
    {
     "data": {
      "text/plain": [
       "array([[1.        , 0.88749009],\n",
       "       [0.88749009, 1.        ]])"
      ]
     },
     "execution_count": 90,
     "metadata": {},
     "output_type": "execute_result"
    }
   ],
   "source": [
    "result_pierson = np.corrcoef(zp,ks) # смещенная корреляция Пирсона через встроенную формулу библиотеки\n",
    "result_pierson"
   ]
  },
  {
   "cell_type": "code",
   "execution_count": 91,
   "id": "518d99d6-e809-4d04-ac24-028c6370ed09",
   "metadata": {},
   "outputs": [
    {
     "data": {
      "text/plain": [
       "0.8874900920739162"
      ]
     },
     "execution_count": 91,
     "metadata": {},
     "output_type": "execute_result"
    }
   ],
   "source": [
    "result_2 = 9157.84/(np.std(zp,ddof = 0)*np.std(ks,ddof = 0)) # значение совпадает с результатом, полученным через встроенную формулу\n",
    "result_2"
   ]
  },
  {
   "cell_type": "code",
   "execution_count": 122,
   "id": "7dcc050e-f187-4218-b50b-8f48bd2ca994",
   "metadata": {},
   "outputs": [
    {
     "data": {
      "text/html": [
       "<div>\n",
       "<style scoped>\n",
       "    .dataframe tbody tr th:only-of-type {\n",
       "        vertical-align: middle;\n",
       "    }\n",
       "\n",
       "    .dataframe tbody tr th {\n",
       "        vertical-align: top;\n",
       "    }\n",
       "\n",
       "    .dataframe thead th {\n",
       "        text-align: right;\n",
       "    }\n",
       "</style>\n",
       "<table border=\"1\" class=\"dataframe\">\n",
       "  <thead>\n",
       "    <tr style=\"text-align: right;\">\n",
       "      <th></th>\n",
       "      <th>zp</th>\n",
       "      <th>ks</th>\n",
       "    </tr>\n",
       "  </thead>\n",
       "  <tbody>\n",
       "    <tr>\n",
       "      <th>0</th>\n",
       "      <td>35</td>\n",
       "      <td>401</td>\n",
       "    </tr>\n",
       "    <tr>\n",
       "      <th>1</th>\n",
       "      <td>45</td>\n",
       "      <td>574</td>\n",
       "    </tr>\n",
       "    <tr>\n",
       "      <th>2</th>\n",
       "      <td>190</td>\n",
       "      <td>874</td>\n",
       "    </tr>\n",
       "    <tr>\n",
       "      <th>3</th>\n",
       "      <td>200</td>\n",
       "      <td>919</td>\n",
       "    </tr>\n",
       "    <tr>\n",
       "      <th>4</th>\n",
       "      <td>40</td>\n",
       "      <td>459</td>\n",
       "    </tr>\n",
       "    <tr>\n",
       "      <th>5</th>\n",
       "      <td>70</td>\n",
       "      <td>739</td>\n",
       "    </tr>\n",
       "    <tr>\n",
       "      <th>6</th>\n",
       "      <td>54</td>\n",
       "      <td>653</td>\n",
       "    </tr>\n",
       "    <tr>\n",
       "      <th>7</th>\n",
       "      <td>150</td>\n",
       "      <td>902</td>\n",
       "    </tr>\n",
       "    <tr>\n",
       "      <th>8</th>\n",
       "      <td>120</td>\n",
       "      <td>746</td>\n",
       "    </tr>\n",
       "    <tr>\n",
       "      <th>9</th>\n",
       "      <td>110</td>\n",
       "      <td>832</td>\n",
       "    </tr>\n",
       "  </tbody>\n",
       "</table>\n",
       "</div>"
      ],
      "text/plain": [
       "    zp   ks\n",
       "0   35  401\n",
       "1   45  574\n",
       "2  190  874\n",
       "3  200  919\n",
       "4   40  459\n",
       "5   70  739\n",
       "6   54  653\n",
       "7  150  902\n",
       "8  120  746\n",
       "9  110  832"
      ]
     },
     "execution_count": 122,
     "metadata": {},
     "output_type": "execute_result"
    }
   ],
   "source": [
    "import pandas as pd\n",
    "data = pd.DataFrame({'zp':zp,'ks':ks})\n",
    "data"
   ]
  },
  {
   "cell_type": "code",
   "execution_count": 125,
   "id": "7602612a-4895-46df-91d5-fe4e6ce7dc0f",
   "metadata": {},
   "outputs": [
    {
     "data": {
      "text/plain": [
       "10175.377777777778"
      ]
     },
     "execution_count": 125,
     "metadata": {},
     "output_type": "execute_result"
    }
   ],
   "source": [
    "data.cov().values[0,1]"
   ]
  },
  {
   "cell_type": "code",
   "execution_count": 127,
   "id": "34398b5e-3477-43e9-b59a-c2e61d29cde2",
   "metadata": {},
   "outputs": [
    {
     "data": {
      "text/html": [
       "<div>\n",
       "<style scoped>\n",
       "    .dataframe tbody tr th:only-of-type {\n",
       "        vertical-align: middle;\n",
       "    }\n",
       "\n",
       "    .dataframe tbody tr th {\n",
       "        vertical-align: top;\n",
       "    }\n",
       "\n",
       "    .dataframe thead th {\n",
       "        text-align: right;\n",
       "    }\n",
       "</style>\n",
       "<table border=\"1\" class=\"dataframe\">\n",
       "  <thead>\n",
       "    <tr style=\"text-align: right;\">\n",
       "      <th></th>\n",
       "      <th>zp</th>\n",
       "      <th>ks</th>\n",
       "    </tr>\n",
       "  </thead>\n",
       "  <tbody>\n",
       "    <tr>\n",
       "      <th>zp</th>\n",
       "      <td>1.00000</td>\n",
       "      <td>0.88749</td>\n",
       "    </tr>\n",
       "    <tr>\n",
       "      <th>ks</th>\n",
       "      <td>0.88749</td>\n",
       "      <td>1.00000</td>\n",
       "    </tr>\n",
       "  </tbody>\n",
       "</table>\n",
       "</div>"
      ],
      "text/plain": [
       "         zp       ks\n",
       "zp  1.00000  0.88749\n",
       "ks  0.88749  1.00000"
      ]
     },
     "execution_count": 127,
     "metadata": {},
     "output_type": "execute_result"
    }
   ],
   "source": [
    "data.corr()"
   ]
  },
  {
   "cell_type": "code",
   "execution_count": 130,
   "id": "f624f3c2-2e04-4edc-90c3-bdb7bcb8c827",
   "metadata": {},
   "outputs": [
    {
     "data": {
      "text/plain": [
       "183.99544076477068"
      ]
     },
     "execution_count": 130,
     "metadata": {},
     "output_type": "execute_result"
    }
   ],
   "source": [
    "ks.std(ddof = 1)"
   ]
  },
  {
   "cell_type": "code",
   "execution_count": 131,
   "id": "b20544e3-a83c-472d-a83b-b47d3194dc25",
   "metadata": {},
   "outputs": [
    {
     "data": {
      "text/plain": [
       "62.31318747531162"
      ]
     },
     "execution_count": 131,
     "metadata": {},
     "output_type": "execute_result"
    }
   ],
   "source": [
    "zp.std(ddof = 1)"
   ]
  },
  {
   "cell_type": "code",
   "execution_count": 133,
   "id": "5fc04435-7662-46d3-9f8b-16d308351d98",
   "metadata": {},
   "outputs": [
    {
     "data": {
      "text/plain": [
       "0.8874900920739162"
      ]
     },
     "execution_count": 133,
     "metadata": {},
     "output_type": "execute_result"
    }
   ],
   "source": [
    "result_pd = data.cov().values[0,1]/(ks.std(ddof = 1)*zp.std(ddof = 1))\n",
    "result_pd"
   ]
  },
  {
   "cell_type": "markdown",
   "id": "e6e9a9cb-681c-47af-8aef-e3f0e53b50b5",
   "metadata": {},
   "source": [
    "## Задание 2\n",
    "Измерены значения IQ выборки студентов,\n",
    "обучающихся в местных технических вузах:\n",
    "131, 125, 115, 122, 131, 115, 107, 99, 125, 111.\n",
    "Известно, что в генеральной совокупности IQ распределен нормально.\n",
    "Найдите доверительный интервал для математического ожидания с надежностью 0.95."
   ]
  },
  {
   "cell_type": "code",
   "execution_count": 134,
   "id": "c04d766e-2099-42f1-aac4-dee75e376716",
   "metadata": {},
   "outputs": [],
   "source": [
    "iq = np.array([131, 125, 115, 122, 131, 115, 107, 99, 125, 111])\n",
    "n = 10"
   ]
  },
  {
   "cell_type": "code",
   "execution_count": 135,
   "id": "181073ca-eb65-4f7c-971d-edbe11e79ac5",
   "metadata": {},
   "outputs": [
    {
     "data": {
      "text/plain": [
       "118.1"
      ]
     },
     "execution_count": 135,
     "metadata": {},
     "output_type": "execute_result"
    }
   ],
   "source": [
    "X = np.mean(iq) # <- среднее значение\n",
    "X"
   ]
  },
  {
   "cell_type": "code",
   "execution_count": 136,
   "id": "193a1705-f29b-46f0-b089-bee43856f9e5",
   "metadata": {},
   "outputs": [
    {
     "data": {
      "text/plain": [
       "10.54566788359614"
      ]
     },
     "execution_count": 136,
     "metadata": {},
     "output_type": "execute_result"
    }
   ],
   "source": [
    "st_dev = np.std(iq,ddof = 1)\n",
    "st_dev"
   ]
  },
  {
   "cell_type": "code",
   "execution_count": 137,
   "id": "1e6e0f55-5a15-46b0-99c4-aee035768585",
   "metadata": {},
   "outputs": [
    {
     "data": {
      "text/plain": [
       "2.2621571627409915"
      ]
     },
     "execution_count": 137,
     "metadata": {},
     "output_type": "execute_result"
    }
   ],
   "source": [
    "t = stats.t.ppf(0.975,n-1) # табличное значение\n",
    "t"
   ]
  },
  {
   "cell_type": "code",
   "execution_count": 138,
   "id": "16d2f80e-6df4-4485-b953-69d4b32b0208",
   "metadata": {},
   "outputs": [
    {
     "data": {
      "text/plain": [
       "110.55608365158724"
      ]
     },
     "execution_count": 138,
     "metadata": {},
     "output_type": "execute_result"
    }
   ],
   "source": [
    "int_lower = X-t*st_dev/np.sqrt(n)\n",
    "int_lower"
   ]
  },
  {
   "cell_type": "code",
   "execution_count": 139,
   "id": "a3e7cfcb-1f0f-459e-8fc4-bf490b89b9c2",
   "metadata": {},
   "outputs": [
    {
     "data": {
      "text/plain": [
       "125.64391634841274"
      ]
     },
     "execution_count": 139,
     "metadata": {},
     "output_type": "execute_result"
    }
   ],
   "source": [
    "int_upper = X+t*st_dev/np.sqrt(n)\n",
    "int_upper"
   ]
  },
  {
   "cell_type": "markdown",
   "id": "3f249d30-2cef-49b9-bc2d-883e9ec50e69",
   "metadata": {},
   "source": [
    "#### Ответ: интервал [110,5;125,6]"
   ]
  },
  {
   "cell_type": "markdown",
   "id": "e02f44a1-388b-45c0-b936-ed70a9e1c804",
   "metadata": {},
   "source": [
    "## Задание 3\n",
    "Известно, что рост футболистов в сборной распределен нормально\n",
    "с дисперсией генеральной совокупности, равной 25 кв.см. Объем выборки равен 27,\n",
    "среднее выборочное составляет 174.2. Найдите доверительный интервал для математического\n",
    "ожидания с надежностью 0.95."
   ]
  },
  {
   "cell_type": "code",
   "execution_count": 140,
   "id": "a646b81f-aa6e-48c8-8d25-f09672a4a83c",
   "metadata": {},
   "outputs": [],
   "source": [
    "N = 27\n",
    "x = 174.2\n",
    "var = 25\n",
    "a = 0.05"
   ]
  },
  {
   "cell_type": "code",
   "execution_count": 141,
   "id": "2b9bbee9-1e23-4fd3-929d-28aeecada006",
   "metadata": {},
   "outputs": [],
   "source": [
    "std_dev = np.sqrt(var)"
   ]
  },
  {
   "cell_type": "code",
   "execution_count": 142,
   "id": "028d04bf-3698-47b9-a392-5b207e1f3c2a",
   "metadata": {},
   "outputs": [
    {
     "data": {
      "text/plain": [
       "1.959963984540054"
      ]
     },
     "execution_count": 142,
     "metadata": {},
     "output_type": "execute_result"
    }
   ],
   "source": [
    "z = stats.norm.ppf(0.975)\n",
    "z"
   ]
  },
  {
   "cell_type": "code",
   "execution_count": 143,
   "id": "83813475-583f-438b-975f-7dc9ca802f44",
   "metadata": {},
   "outputs": [
    {
     "data": {
      "text/plain": [
       "0.9750021048517795"
      ]
     },
     "execution_count": 143,
     "metadata": {},
     "output_type": "execute_result"
    }
   ],
   "source": [
    "stats.norm.cdf(1.96)"
   ]
  },
  {
   "cell_type": "code",
   "execution_count": 144,
   "id": "584ad2e6-797c-4ead-bf76-4d36718a1a4a",
   "metadata": {},
   "outputs": [
    {
     "data": {
      "text/plain": [
       "172.3140237765397"
      ]
     },
     "execution_count": 144,
     "metadata": {},
     "output_type": "execute_result"
    }
   ],
   "source": [
    "c_int_lower = x-z*std_dev/np.sqrt(N)\n",
    "c_int_lower"
   ]
  },
  {
   "cell_type": "code",
   "execution_count": 145,
   "id": "33a26877-d968-4245-9b5b-6f487fe05ce6",
   "metadata": {},
   "outputs": [
    {
     "data": {
      "text/plain": [
       "176.08597622346028"
      ]
     },
     "execution_count": 145,
     "metadata": {},
     "output_type": "execute_result"
    }
   ],
   "source": [
    "c_int_upper = x+z*std_dev/np.sqrt(N)\n",
    "c_int_upper"
   ]
  },
  {
   "cell_type": "markdown",
   "id": "db0e1f0b-37af-472c-aef7-2231b38666af",
   "metadata": {},
   "source": [
    "### Ответ: интервал [172,3;176,1]"
   ]
  }
 ],
 "metadata": {
  "kernelspec": {
   "display_name": "Python 3 (ipykernel)",
   "language": "python",
   "name": "python3"
  },
  "language_info": {
   "codemirror_mode": {
    "name": "ipython",
    "version": 3
   },
   "file_extension": ".py",
   "mimetype": "text/x-python",
   "name": "python",
   "nbconvert_exporter": "python",
   "pygments_lexer": "ipython3",
   "version": "3.9.7"
  }
 },
 "nbformat": 4,
 "nbformat_minor": 5
}
