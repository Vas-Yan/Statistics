{
 "cells": [
  {
   "cell_type": "markdown",
   "id": "ccb842ac-c583-4944-8c09-3076dd9410d3",
   "metadata": {},
   "source": [
    "# Домашнее задание Семинара 2"
   ]
  },
  {
   "cell_type": "markdown",
   "id": "88379a47-4dda-488f-bae0-e596eac42376",
   "metadata": {},
   "source": [
    "### Задание 1. Вероятность того, что стрелок попадет в мишень, выстрелив один раз, равна 0.8. Стрелок выстрелил 100 раз. Найдите вероятность того, что стрелок попадет в цель ровно 85 раз."
   ]
  },
  {
   "cell_type": "code",
   "execution_count": 6,
   "id": "23716a47-5bf3-4df2-8f34-6778c59d93cc",
   "metadata": {},
   "outputs": [],
   "source": [
    "import numpy as np\n",
    "from math import factorial"
   ]
  },
  {
   "cell_type": "markdown",
   "id": "54eb053d-180b-499d-b433-6c8fdb835a2a",
   "metadata": {},
   "source": [
    "### k=85, n = 100, p = 0.8, q = 0.2"
   ]
  },
  {
   "cell_type": "code",
   "execution_count": 8,
   "id": "7cbb0779-70cc-4c2a-9454-cd2207b8138f",
   "metadata": {},
   "outputs": [],
   "source": [
    "def combinations (n,k):\n",
    "    return np.math.factorial(n)//(np.math.factorial(k)*np.math.factorial(n-k))"
   ]
  },
  {
   "cell_type": "code",
   "execution_count": 11,
   "id": "c6c15ac9-61f1-4b1d-b679-e2123a104b80",
   "metadata": {},
   "outputs": [],
   "source": [
    "result = combinations(100,85)"
   ]
  },
  {
   "cell_type": "code",
   "execution_count": 14,
   "id": "83595145-6909-4f1f-96a0-c98b9303a68b",
   "metadata": {},
   "outputs": [],
   "source": [
    "answer = pow(0.8,85)*pow(0.2,15)*result"
   ]
  },
  {
   "cell_type": "code",
   "execution_count": 17,
   "id": "4524c73e-d4aa-4fb3-8b06-c20cfa53e2a2",
   "metadata": {},
   "outputs": [
    {
     "data": {
      "text/plain": [
       "0.0481"
      ]
     },
     "execution_count": 17,
     "metadata": {},
     "output_type": "execute_result"
    }
   ],
   "source": [
    "round(answer,4)"
   ]
  },
  {
   "cell_type": "markdown",
   "id": "1645afbd-5389-48b1-ab26-eacdde165156",
   "metadata": {},
   "source": [
    "### Ответ: вероятность 4.81%"
   ]
  },
  {
   "cell_type": "markdown",
   "id": "ecb2415d-68a2-4815-a79f-67adabb99460",
   "metadata": {},
   "source": [
    "### Задание 2. Вероятность того, что лампочка перегорит в течение первого дня эксплуатации, равна 0.0004. В жилом комплексе после ремонта в один день включили 5000 новых лампочек. Какова вероятность, что ни одна из них не перегорит в первый день? Какова вероятность, что перегорят ровно две?"
   ]
  },
  {
   "cell_type": "markdown",
   "id": "5107d165-83b9-4fa9-8f98-caa2f04e0124",
   "metadata": {},
   "source": [
    "## p = 0.0004, n = 5000"
   ]
  },
  {
   "cell_type": "code",
   "execution_count": 39,
   "id": "24c8d9e3-1905-4694-b2b0-f265e6f87653",
   "metadata": {},
   "outputs": [],
   "source": [
    "lamda = 5000*0.0004"
   ]
  },
  {
   "cell_type": "code",
   "execution_count": 56,
   "id": "8c85efdd-7ed0-4ee7-a5ae-f99770424fd2",
   "metadata": {},
   "outputs": [],
   "source": [
    "p_zero= (pow(2,0)/factorial(0))*np.math.exp(-2)"
   ]
  },
  {
   "cell_type": "code",
   "execution_count": 57,
   "id": "1cca7208-9f89-4c19-b1a6-bfd5b6f6b482",
   "metadata": {},
   "outputs": [
    {
     "data": {
      "text/plain": [
       "0.1353"
      ]
     },
     "execution_count": 57,
     "metadata": {},
     "output_type": "execute_result"
    }
   ],
   "source": [
    "round(p_zero,4)"
   ]
  },
  {
   "cell_type": "code",
   "execution_count": 58,
   "id": "a51f99a3-efc4-494b-b230-4f2974a0ef42",
   "metadata": {},
   "outputs": [],
   "source": [
    "p_two= (pow(2,2)/factorial(2))*np.math.exp(-2)"
   ]
  },
  {
   "cell_type": "code",
   "execution_count": 59,
   "id": "fb247d12-f3ff-4019-9c2f-116087ab644b",
   "metadata": {},
   "outputs": [
    {
     "data": {
      "text/plain": [
       "0.2707"
      ]
     },
     "execution_count": 59,
     "metadata": {},
     "output_type": "execute_result"
    }
   ],
   "source": [
    "round(p_two,4)"
   ]
  },
  {
   "cell_type": "markdown",
   "id": "08fd629b-6824-4c67-bd79-7969a8c017dd",
   "metadata": {},
   "source": [
    "### Задание 3. Монету подбросили 144 раза. Какова вероятность, что орел выпадет ровно 70 раз?"
   ]
  },
  {
   "cell_type": "markdown",
   "id": "ad9e995d-ba60-43e1-bdb3-281ed02efb31",
   "metadata": {},
   "source": [
    "### k=70, n = 144, p = 0.5, q = 0.5"
   ]
  },
  {
   "cell_type": "code",
   "execution_count": 19,
   "id": "05ba351e-7788-4e05-88eb-abaed35bb03a",
   "metadata": {},
   "outputs": [],
   "source": [
    "result3 = combinations(144,70)"
   ]
  },
  {
   "cell_type": "code",
   "execution_count": 22,
   "id": "05dbf882-18a7-4fa6-ae0c-cc62b0bddea0",
   "metadata": {},
   "outputs": [],
   "source": [
    "answer3 = pow(0.5,70)*pow(0.5,74)*result"
   ]
  },
  {
   "cell_type": "code",
   "execution_count": 23,
   "id": "0096847d-0fa5-47af-a96b-2c43684c2894",
   "metadata": {},
   "outputs": [
    {
     "data": {
      "text/plain": [
       "0.0628"
      ]
     },
     "execution_count": 23,
     "metadata": {},
     "output_type": "execute_result"
    }
   ],
   "source": [
    "round(answer3,4)"
   ]
  },
  {
   "cell_type": "markdown",
   "id": "239bb00a-6178-44d8-804c-310aedcc14bb",
   "metadata": {},
   "source": [
    "### Ответ: вероятность 6.28%"
   ]
  },
  {
   "cell_type": "markdown",
   "id": "b425091c-fa42-4629-a837-847d8b16e436",
   "metadata": {},
   "source": [
    "## Задание 4. В первом ящике находится 10 мячей, из которых 7 - белые. Во втором ящике - 11 мячей, из которых 9 белых. Из каждого ящика вытаскивают случайным образом по два мяча. Какова вероятность того, что все мячи белые? Какова вероятность того, что ровно два мяча белые? Какова вероятность того, что хотя бы один мяч белый?"
   ]
  },
  {
   "cell_type": "markdown",
   "id": "29175878-c911-4be9-b942-cc9f61a65cc5",
   "metadata": {},
   "source": [
    "#### Все белые"
   ]
  },
  {
   "cell_type": "code",
   "execution_count": 34,
   "id": "135b6c72-7eba-48d5-aae7-e65d897a076a",
   "metadata": {},
   "outputs": [],
   "source": [
    "p_w=combinations (7,2)/ combinations (10,2)*combinations (2,2)/ combinations (11,2)"
   ]
  },
  {
   "cell_type": "code",
   "execution_count": 35,
   "id": "17940bff-15d3-4a6f-bfb9-0be113ab6e48",
   "metadata": {},
   "outputs": [
    {
     "data": {
      "text/plain": [
       "0.008484848484848486"
      ]
     },
     "execution_count": 35,
     "metadata": {},
     "output_type": "execute_result"
    }
   ],
   "source": [
    "p_w"
   ]
  },
  {
   "cell_type": "markdown",
   "id": "c654bba9-a15b-4d57-abac-34b8b1f26bcc",
   "metadata": {},
   "source": [
    "#### Два белые"
   ]
  },
  {
   "cell_type": "code",
   "execution_count": 24,
   "id": "909d1ce1-90d7-43a6-868e-b273da90224c",
   "metadata": {},
   "outputs": [],
   "source": [
    "p1 = combinations (7,2)/ combinations (10,2)* combinations (2,2)/ combinations (11,2)"
   ]
  },
  {
   "cell_type": "code",
   "execution_count": 25,
   "id": "f77795f1-811f-4400-bee8-bacbf92f59c4",
   "metadata": {},
   "outputs": [],
   "source": [
    "p2 = combinations (3,2)/ combinations (10,2)* combinations (9,2)/ combinations (11,2)"
   ]
  },
  {
   "cell_type": "code",
   "execution_count": 26,
   "id": "7e8d137e-4573-4f90-a61f-b72b7232032a",
   "metadata": {},
   "outputs": [],
   "source": [
    "p3 = (combinations (7,1)*combinations (3,1)/ combinations (10,2))* (combinations (9,1)*combinations (2,1)/combinations (11,2))"
   ]
  },
  {
   "cell_type": "code",
   "execution_count": 27,
   "id": "15f03eb2-9f50-4315-b6e5-ef29540edc48",
   "metadata": {},
   "outputs": [],
   "source": [
    "answer4 = p1+p2+p3"
   ]
  },
  {
   "cell_type": "code",
   "execution_count": 28,
   "id": "50842ee6-cea4-4e3f-a3c2-389bccfa2fb6",
   "metadata": {},
   "outputs": [
    {
     "data": {
      "text/plain": [
       "0.2048"
      ]
     },
     "execution_count": 28,
     "metadata": {},
     "output_type": "execute_result"
    }
   ],
   "source": [
    "round(answer4,4)"
   ]
  },
  {
   "cell_type": "markdown",
   "id": "734ad51b-bba4-4e09-bdae-bffe62715afe",
   "metadata": {},
   "source": [
    "### Хотя бы один белый"
   ]
  },
  {
   "cell_type": "code",
   "execution_count": 36,
   "id": "3fe43ac7-c710-4aeb-9aad-6d64dc69dac0",
   "metadata": {},
   "outputs": [],
   "source": [
    "p_ow = 1-combinations (3,2)/ combinations (10,2)* combinations (2,2)/ combinations (11,2)"
   ]
  },
  {
   "cell_type": "code",
   "execution_count": 37,
   "id": "6cb0a586-c2da-4fe2-a749-95d33533de36",
   "metadata": {},
   "outputs": [
    {
     "data": {
      "text/plain": [
       "0.9988"
      ]
     },
     "execution_count": 37,
     "metadata": {},
     "output_type": "execute_result"
    }
   ],
   "source": [
    "round(p_ow,4)"
   ]
  },
  {
   "cell_type": "code",
   "execution_count": null,
   "id": "e1baa1db-2619-4d37-a4c6-7a79b4cc964b",
   "metadata": {},
   "outputs": [],
   "source": []
  },
  {
   "cell_type": "code",
   "execution_count": null,
   "id": "1c871e41-a4c4-407a-91b8-526459889e8a",
   "metadata": {},
   "outputs": [],
   "source": []
  }
 ],
 "metadata": {
  "kernelspec": {
   "display_name": "Python 3 (ipykernel)",
   "language": "python",
   "name": "python3"
  },
  "language_info": {
   "codemirror_mode": {
    "name": "ipython",
    "version": 3
   },
   "file_extension": ".py",
   "mimetype": "text/x-python",
   "name": "python",
   "nbconvert_exporter": "python",
   "pygments_lexer": "ipython3",
   "version": "3.9.7"
  }
 },
 "nbformat": 4,
 "nbformat_minor": 5
}
