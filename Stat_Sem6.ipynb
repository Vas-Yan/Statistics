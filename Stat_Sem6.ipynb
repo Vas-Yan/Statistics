{
 "cells": [
  {
   "cell_type": "code",
   "execution_count": 58,
   "id": "ed3cd7c8-b118-47f9-b670-cb0b532f3133",
   "metadata": {},
   "outputs": [],
   "source": [
    "import numpy as np\n",
    "import scipy.stats as stats"
   ]
  },
  {
   "cell_type": "markdown",
   "id": "26eecb61-150f-4824-9519-0f514c9c8e41",
   "metadata": {},
   "source": [
    "## Задание 1. \n",
    "Известно, что генеральная совокупность распределена нормально\n",
    "со средним квадратическим отклонением, равным 16.\n",
    "Найти доверительный интервал для оценки математического ожидания a с надежностью 0.95,\n",
    "если выборочная средняя M = 80, а объем выборки n = 256."
   ]
  },
  {
   "cell_type": "code",
   "execution_count": 59,
   "id": "9aafaa57-435d-4b81-8dda-64076344f9b9",
   "metadata": {},
   "outputs": [],
   "source": [
    "s_dev = 16\n",
    "alpha = 0.05\n",
    "M = 80\n",
    "n = 256\n",
    "z_value_half_alpha = 1.96"
   ]
  },
  {
   "cell_type": "markdown",
   "id": "4b33bfee-3551-4e65-8b9e-97d89baa89b1",
   "metadata": {},
   "source": [
    "### conf_interval = M+-Z(a/2)*s_dev/sqrt(n)"
   ]
  },
  {
   "cell_type": "code",
   "execution_count": 60,
   "id": "ec6ca108-e880-4f68-a3c0-f2bb8b91e6e5",
   "metadata": {},
   "outputs": [],
   "source": [
    "conf_interval_plus = M+z_value_half_alpha*s_dev/np.sqrt(n)"
   ]
  },
  {
   "cell_type": "code",
   "execution_count": 61,
   "id": "624d6c6c-766f-4bfc-a72a-97e70a8256eb",
   "metadata": {},
   "outputs": [
    {
     "data": {
      "text/plain": [
       "81.96"
      ]
     },
     "execution_count": 61,
     "metadata": {},
     "output_type": "execute_result"
    }
   ],
   "source": [
    "conf_interval_plus"
   ]
  },
  {
   "cell_type": "code",
   "execution_count": 62,
   "id": "afc55be8-800d-42e6-a392-35f52b15f34f",
   "metadata": {},
   "outputs": [],
   "source": [
    "conf_interval_minus = M-z_value_half_alpha*s_dev/np.sqrt(n)"
   ]
  },
  {
   "cell_type": "code",
   "execution_count": 63,
   "id": "b8f587f7-b50f-4ef6-a9ea-a6ab2f1fc3b9",
   "metadata": {},
   "outputs": [
    {
     "data": {
      "text/plain": [
       "78.04"
      ]
     },
     "execution_count": 63,
     "metadata": {},
     "output_type": "execute_result"
    }
   ],
   "source": [
    "conf_interval_minus"
   ]
  },
  {
   "cell_type": "markdown",
   "id": "b5c3f890-1227-4f86-ba0f-150ea56a78d6",
   "metadata": {},
   "source": [
    "### Ответ: [78.04,81.96]"
   ]
  },
  {
   "cell_type": "markdown",
   "id": "da16554a-39ac-4bf8-8655-6dd902645c42",
   "metadata": {},
   "source": [
    "## Задание 2\n",
    "В результате 10 независимых измерений некоторой величины X, выполненных с одинаковой точностью,\n",
    "получены опытные данные:\n",
    "6.9, 6.1, 6.2, 6.8, 7.5, 6.3, 6.4, 6.9, 6.7, 6.1\n",
    "Предполагая, что результаты измерений подчинены нормальному закону распределения вероятностей,\n",
    "оценить истинное значение величины X при помощи доверительного интервала, покрывающего это\n",
    "значение с доверительной вероятностью 0,95."
   ]
  },
  {
   "cell_type": "code",
   "execution_count": 64,
   "id": "cf0fda6c-2bc1-4e3f-a044-8dc6d5aca188",
   "metadata": {},
   "outputs": [],
   "source": [
    "alpha = 0.05\n",
    "x_2 = [6.9, 6.1, 6.2, 6.8, 7.5, 6.3, 6.4, 6.9, 6.7, 6.1]\n",
    "n_2 = len(x_2)"
   ]
  },
  {
   "cell_type": "code",
   "execution_count": 65,
   "id": "f0ab5ca5-15a8-4ac6-bd94-8c9c88e1f7e7",
   "metadata": {},
   "outputs": [],
   "source": [
    "M_2 = np.mean(x_2)"
   ]
  },
  {
   "cell_type": "code",
   "execution_count": 66,
   "id": "c361251a-371a-44fb-9d96-59d10f871196",
   "metadata": {},
   "outputs": [
    {
     "data": {
      "text/plain": [
       "6.590000000000001"
      ]
     },
     "execution_count": 66,
     "metadata": {},
     "output_type": "execute_result"
    }
   ],
   "source": [
    "M_2"
   ]
  },
  {
   "cell_type": "code",
   "execution_count": 67,
   "id": "f6d3fd54-2f32-49c1-b806-34b50771835f",
   "metadata": {},
   "outputs": [],
   "source": [
    "s_dev_2 = np.std(x_2,ddof = 1)"
   ]
  },
  {
   "cell_type": "code",
   "execution_count": 68,
   "id": "e67a1ad5-603b-4426-a939-0b711c92ce23",
   "metadata": {},
   "outputs": [
    {
     "data": {
      "text/plain": [
       "0.4508017549014448"
      ]
     },
     "execution_count": 68,
     "metadata": {},
     "output_type": "execute_result"
    }
   ],
   "source": [
    "s_dev_2"
   ]
  },
  {
   "cell_type": "code",
   "execution_count": 69,
   "id": "ab758636-3f63-4548-a0cb-eabee397eb6e",
   "metadata": {},
   "outputs": [],
   "source": [
    "conf_inverval_lower = M_2 - z_value_half_alpha*s_dev_2/np.sqrt(n_2)"
   ]
  },
  {
   "cell_type": "code",
   "execution_count": 70,
   "id": "0c33a276-7aed-4fe4-823c-729b79da967f",
   "metadata": {},
   "outputs": [
    {
     "data": {
      "text/plain": [
       "6.3105901775368505"
      ]
     },
     "execution_count": 70,
     "metadata": {},
     "output_type": "execute_result"
    }
   ],
   "source": [
    "conf_inverval_lower"
   ]
  },
  {
   "cell_type": "code",
   "execution_count": 71,
   "id": "6da2227b-50df-4be2-a17b-a39b63c49509",
   "metadata": {},
   "outputs": [],
   "source": [
    "conf_inverval_higher = M_2 + z_value_half_alpha*s_dev_2/np.sqrt(n_2)"
   ]
  },
  {
   "cell_type": "code",
   "execution_count": 72,
   "id": "ac2c3623-4efa-4c14-8260-d07f58e9adda",
   "metadata": {},
   "outputs": [
    {
     "data": {
      "text/plain": [
       "6.869409822463151"
      ]
     },
     "execution_count": 72,
     "metadata": {},
     "output_type": "execute_result"
    }
   ],
   "source": [
    "conf_inverval_higher"
   ]
  },
  {
   "cell_type": "markdown",
   "id": "8a87c7ea-a503-448d-b890-2f7994f652e4",
   "metadata": {},
   "source": [
    "### Ответ: истинное значение величины X лежит в интервале [6.31, 6.87]"
   ]
  },
  {
   "cell_type": "markdown",
   "id": "0ecda169-eae8-4f94-8553-2e0f8b455457",
   "metadata": {},
   "source": [
    "## Задание 3\n",
    "Рост дочерей 175, 167, 154, 174, 178, 148, 160, 167, 169, 170\n",
    "Рост матерей 178, 165, 165, 173, 168, 155, 160, 164, 178, 175\n",
    "\n",
    "Используя эти данные построить 95% доверительный интервал для разности среднего роста родителей и детей.\n"
   ]
  },
  {
   "cell_type": "code",
   "execution_count": 73,
   "id": "a23cfbd2-30ca-4075-b297-40ab91c6db7d",
   "metadata": {},
   "outputs": [],
   "source": [
    "D_hight = [175, 167, 154, 174, 178, 148, 160, 167, 169, 170]"
   ]
  },
  {
   "cell_type": "code",
   "execution_count": 74,
   "id": "d5b5a2df-17cf-488e-abd0-ad9dbbb6c6f8",
   "metadata": {},
   "outputs": [],
   "source": [
    "M_hight = [178, 165, 165, 173, 168, 155, 160, 164, 178, 175]"
   ]
  },
  {
   "cell_type": "code",
   "execution_count": 75,
   "id": "5ce116a0-3ef2-4b0e-b556-53452cb17296",
   "metadata": {},
   "outputs": [],
   "source": [
    "alpha_3 = 0.05"
   ]
  },
  {
   "cell_type": "code",
   "execution_count": 76,
   "id": "ff7dc5b0-87ed-46a5-9755-31dd92bd2474",
   "metadata": {},
   "outputs": [
    {
     "data": {
      "text/plain": [
       "10"
      ]
     },
     "execution_count": 76,
     "metadata": {},
     "output_type": "execute_result"
    }
   ],
   "source": [
    "len(D_hight)"
   ]
  },
  {
   "cell_type": "code",
   "execution_count": 77,
   "id": "cebc04b0-e098-4181-8400-ae6e9a37e9a5",
   "metadata": {},
   "outputs": [
    {
     "data": {
      "text/plain": [
       "10"
      ]
     },
     "execution_count": 77,
     "metadata": {},
     "output_type": "execute_result"
    }
   ],
   "source": [
    "len(M_hight)"
   ]
  },
  {
   "cell_type": "code",
   "execution_count": 78,
   "id": "2728877e-fedd-47bf-9a8a-a6e13e23119e",
   "metadata": {},
   "outputs": [],
   "source": [
    "D_mean = np.mean(D_hight) # средний рост среди дочерей"
   ]
  },
  {
   "cell_type": "code",
   "execution_count": 79,
   "id": "d4bedd11-63cd-4a20-a9bb-bb6383963f54",
   "metadata": {},
   "outputs": [],
   "source": [
    "M_mean = np.mean(M_hight) # средний рост среди матерей"
   ]
  },
  {
   "cell_type": "code",
   "execution_count": 80,
   "id": "f219cc62-f0cf-49cb-a6ab-32af788776dd",
   "metadata": {},
   "outputs": [
    {
     "data": {
      "text/plain": [
       "-1.9000000000000057"
      ]
     },
     "execution_count": 80,
     "metadata": {},
     "output_type": "execute_result"
    }
   ],
   "source": [
    "delta = D_mean - M_mean\n",
    "delta"
   ]
  },
  {
   "cell_type": "code",
   "execution_count": 81,
   "id": "8d17ded5-e012-4d90-957a-df9c7fa212c1",
   "metadata": {},
   "outputs": [
    {
     "data": {
      "text/plain": [
       "91.06666666666666"
      ]
     },
     "execution_count": 81,
     "metadata": {},
     "output_type": "execute_result"
    }
   ],
   "source": [
    "D_var = np.var(D_hight,ddof = 1)\n",
    "D_var"
   ]
  },
  {
   "cell_type": "code",
   "execution_count": 82,
   "id": "910a6ec6-ec5a-4700-aec3-ba4ee57c5d5a",
   "metadata": {},
   "outputs": [
    {
     "data": {
      "text/plain": [
       "60.10000000000001"
      ]
     },
     "execution_count": 82,
     "metadata": {},
     "output_type": "execute_result"
    }
   ],
   "source": [
    "M_var = np.var(M_hight,ddof = 1)\n",
    "M_var"
   ]
  },
  {
   "cell_type": "code",
   "execution_count": 83,
   "id": "00ed0689-a87f-4681-8c56-bf0d8d658d8d",
   "metadata": {},
   "outputs": [
    {
     "data": {
      "text/plain": [
       "75.58333333333334"
      ]
     },
     "execution_count": 83,
     "metadata": {},
     "output_type": "execute_result"
    }
   ],
   "source": [
    "Var_combined = (D_var+M_var)/2 # объединенная дисперсия\n",
    "Var_combined"
   ]
  },
  {
   "cell_type": "code",
   "execution_count": 84,
   "id": "cadc9a75-7092-4309-924b-93d9ef592d2a",
   "metadata": {},
   "outputs": [
    {
     "data": {
      "text/plain": [
       "3.8880157750022915"
      ]
     },
     "execution_count": 84,
     "metadata": {},
     "output_type": "execute_result"
    }
   ],
   "source": [
    "SE = np.sqrt(Var_combined/10 + Var_combined/10)\n",
    "SE"
   ]
  },
  {
   "cell_type": "code",
   "execution_count": 86,
   "id": "9cdce2b0-23f6-4999-8ae0-024c556993a0",
   "metadata": {},
   "outputs": [
    {
     "data": {
      "text/plain": [
       "2.10092204024096"
      ]
     },
     "execution_count": 86,
     "metadata": {},
     "output_type": "execute_result"
    }
   ],
   "source": [
    "t = stats.t.ppf(0.975,18)\n",
    "t"
   ]
  },
  {
   "cell_type": "code",
   "execution_count": 87,
   "id": "08f5f03a-ec3d-48dd-9272-a7b03a78a73c",
   "metadata": {},
   "outputs": [
    {
     "data": {
      "text/plain": [
       "-10.068418034506857"
      ]
     },
     "execution_count": 87,
     "metadata": {},
     "output_type": "execute_result"
    }
   ],
   "source": [
    "conf_lower = delta - t*SE\n",
    "conf_lower"
   ]
  },
  {
   "cell_type": "code",
   "execution_count": 88,
   "id": "67fa89da-e6c3-4445-a580-682053f277ea",
   "metadata": {},
   "outputs": [
    {
     "data": {
      "text/plain": [
       "6.268418034506846"
      ]
     },
     "execution_count": 88,
     "metadata": {},
     "output_type": "execute_result"
    }
   ],
   "source": [
    "conf_higher = delta + t*SE\n",
    "conf_higher"
   ]
  },
  {
   "cell_type": "markdown",
   "id": "28b22ee0-bf48-40e9-b476-5b7bb7925473",
   "metadata": {},
   "source": [
    "### Ответ: доверительный интервал для разности роста дочерей и матерей [-10.06, 6.27]"
   ]
  },
  {
   "cell_type": "code",
   "execution_count": null,
   "id": "721dca0b-0bb7-4a4a-a6fa-ca3b31b530ef",
   "metadata": {},
   "outputs": [],
   "source": []
  }
 ],
 "metadata": {
  "kernelspec": {
   "display_name": "Python 3 (ipykernel)",
   "language": "python",
   "name": "python3"
  },
  "language_info": {
   "codemirror_mode": {
    "name": "ipython",
    "version": 3
   },
   "file_extension": ".py",
   "mimetype": "text/x-python",
   "name": "python",
   "nbconvert_exporter": "python",
   "pygments_lexer": "ipython3",
   "version": "3.9.7"
  }
 },
 "nbformat": 4,
 "nbformat_minor": 5
}
